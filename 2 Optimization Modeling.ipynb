{
    "cells": [
        {
            "cell_type": "code",
            "execution_count": 1,
            "metadata": {},
            "outputs": [],
            "source": "# The code was removed by Watson Studio for sharing."
        },
        {
            "cell_type": "code",
            "execution_count": 2,
            "metadata": {},
            "outputs": [],
            "source": "import pandas as pd\nfrom datetime import datetime\nfrom IPython.core.display import HTML\nHTML(\"<style>.container { width:100%; }</style>\")\n\npd.set_option('display.max_columns', 150)\npd.set_option('display.max_rows', None)\npd.set_option('display.max_colwidth', None)\n\nfrom dse_do_utils import DataManager, OptimizationEngine,ScenarioManager\nfrom docplex.mp.model import Model"
        },
        {
            "cell_type": "markdown",
            "metadata": {},
            "source": "# Optimization Model Informations"
        },
        {
            "cell_type": "code",
            "execution_count": 3,
            "metadata": {},
            "outputs": [],
            "source": "MODEL_NAME = 'Unit_Commitment'\nSCENARIO_NAME = 'Base_Scenario' \nsm = ScenarioManager(model_name=MODEL_NAME, scenario_name=SCENARIO_NAME, project = project)\n\nmdl = Model(MODEL_NAME)"
        },
        {
            "cell_type": "code",
            "execution_count": 4,
            "metadata": {},
            "outputs": [
                {
                    "data": {
                        "text/plain": "dict_keys(['Units', 'Demand'])"
                    },
                    "execution_count": 4,
                    "metadata": {},
                    "output_type": "execute_result"
                }
            ],
            "source": "InputTables, outputTables = sm.load_data_from_scenario()\nInputTables.keys()"
        },
        {
            "cell_type": "code",
            "execution_count": 5,
            "metadata": {},
            "outputs": [
                {
                    "data": {
                        "text/html": "<div>\n<style scoped>\n    .dataframe tbody tr th:only-of-type {\n        vertical-align: middle;\n    }\n\n    .dataframe tbody tr th {\n        vertical-align: top;\n    }\n\n    .dataframe thead th {\n        text-align: right;\n    }\n</style>\n<table border=\"1\" class=\"dataframe\">\n  <thead>\n    <tr style=\"text-align: right;\">\n      <th></th>\n      <th>index</th>\n      <th>energy</th>\n      <th>initial</th>\n      <th>min_gen</th>\n      <th>max_gen</th>\n      <th>operating_max_gen</th>\n      <th>min_uptime</th>\n      <th>min_downtime</th>\n      <th>ramp_up</th>\n      <th>ramp_down</th>\n      <th>start_cost</th>\n      <th>fixed_cost</th>\n      <th>variable_cost</th>\n      <th>Unit</th>\n      <th>co2_cost</th>\n    </tr>\n  </thead>\n  <tbody>\n    <tr>\n      <th>0</th>\n      <td>0</td>\n      <td>coal</td>\n      <td>400</td>\n      <td>100.0</td>\n      <td>425</td>\n      <td>400</td>\n      <td>15</td>\n      <td>9</td>\n      <td>212.0</td>\n      <td>183.0</td>\n      <td>5000</td>\n      <td>208.61</td>\n      <td>22.536</td>\n      <td>coal1</td>\n      <td>30</td>\n    </tr>\n    <tr>\n      <th>1</th>\n      <td>1</td>\n      <td>coal</td>\n      <td>350</td>\n      <td>140.0</td>\n      <td>365</td>\n      <td>350</td>\n      <td>15</td>\n      <td>8</td>\n      <td>150.0</td>\n      <td>198.0</td>\n      <td>4550</td>\n      <td>117.37</td>\n      <td>31.985</td>\n      <td>coal2</td>\n      <td>30</td>\n    </tr>\n  </tbody>\n</table>\n</div>",
                        "text/plain": "   index energy  initial  min_gen  max_gen  operating_max_gen  min_uptime  \\\n0      0   coal      400    100.0      425                400          15   \n1      1   coal      350    140.0      365                350          15   \n\n   min_downtime  ramp_up  ramp_down  start_cost  fixed_cost  variable_cost  \\\n0             9    212.0      183.0        5000      208.61         22.536   \n1             8    150.0      198.0        4550      117.37         31.985   \n\n    Unit  co2_cost  \n0  coal1        30  \n1  coal2        30  "
                    },
                    "metadata": {},
                    "output_type": "display_data"
                },
                {
                    "data": {
                        "text/html": "<div>\n<style scoped>\n    .dataframe tbody tr th:only-of-type {\n        vertical-align: middle;\n    }\n\n    .dataframe tbody tr th {\n        vertical-align: top;\n    }\n\n    .dataframe thead th {\n        text-align: right;\n    }\n</style>\n<table border=\"1\" class=\"dataframe\">\n  <thead>\n    <tr style=\"text-align: right;\">\n      <th></th>\n      <th>demand</th>\n      <th>Date</th>\n      <th>Date_Sequence</th>\n    </tr>\n  </thead>\n  <tbody>\n    <tr>\n      <th>0</th>\n      <td>1259.0</td>\n      <td>2022-04-22</td>\n      <td>day1</td>\n    </tr>\n    <tr>\n      <th>1</th>\n      <td>1439.0</td>\n      <td>2022-04-23</td>\n      <td>day2</td>\n    </tr>\n  </tbody>\n</table>\n</div>",
                        "text/plain": "   demand        Date Date_Sequence\n0  1259.0  2022-04-22          day1\n1  1439.0  2022-04-23          day2"
                    },
                    "metadata": {},
                    "output_type": "display_data"
                }
            ],
            "source": "Units = InputTables['Units']\n\ndisplay(Units.head(2))\n\nDemand = InputTables['Demand']\n\ndisplay(Demand.head(2))"
        },
        {
            "cell_type": "markdown",
            "metadata": {},
            "source": "# Defining of Functions"
        },
        {
            "cell_type": "markdown",
            "metadata": {},
            "source": "Define a set of functions, which will be used later in the code."
        },
        {
            "cell_type": "code",
            "execution_count": 7,
            "metadata": {},
            "outputs": [],
            "source": "def continuous_var_series(df, mdl,**kargs):\n    return pd.Series(mdl.continuous_var_list(df.index, **kargs), index = df.index)\n\ndef binary_var_series(df, mdl,**kargs):\n    return pd.Series(mdl.binary_var_list(df.index, **kargs), index = df.index)\n\ndef integer_var_series(df, mdl,**kargs):\n    '''Create a Series of integer dvar for each row in the DF. Most effective method. Best practice.\n    Result can be assigned to a column of the df.\n    Usage:\n        df['xDVar'] = mdl.integer_var_series(df, name = 'xDVar')\n    Args:\n        mdl: CPLEX Model\n        df: DataFrame\n        **kargs: arguments passed to mdl.integer_var_list method. E.g. 'name'\n        \n    :returns: pandas.Series with integer dvars, index matches index of df\n    '''\n    #We are re-using the index from the DF index:\n    return pd.Series(mdl.integer_var_list(df.index, **kargs), index = df.index)\n\n\nclass CplexSum():\n    \"\"\"Function class that adds a series of dvars into a cplex sum expression.\n    To be used as a custom aggregation in a groupby.\n    Usage:\n        df2 = df1.groupby(['a']).agg({'xDVar':CplexSum(engine.mdl)}).rename(columns={'xDVar':'expr'})\n\n    Sums the dvars in the 'xDVar' column into an expression\n    \"\"\"\n    def __init__(self, mdl):\n        self.mdl = mdl\n    def __call__(self, dvar_series):\n        return self.mdl.sum(dvar_series)"
        },
        {
            "cell_type": "markdown",
            "metadata": {},
            "source": "# Define decision variables"
        },
        {
            "cell_type": "markdown",
            "metadata": {},
            "source": "We define the decision variables based on each day and unit. First we create a table of all possible permutations"
        },
        {
            "cell_type": "code",
            "execution_count": 11,
            "metadata": {},
            "outputs": [
                {
                    "data": {
                        "text/html": "<div>\n<style scoped>\n    .dataframe tbody tr th:only-of-type {\n        vertical-align: middle;\n    }\n\n    .dataframe tbody tr th {\n        vertical-align: top;\n    }\n\n    .dataframe thead th {\n        text-align: right;\n    }\n</style>\n<table border=\"1\" class=\"dataframe\">\n  <thead>\n    <tr style=\"text-align: right;\">\n      <th></th>\n      <th></th>\n    </tr>\n    <tr>\n      <th>Unit</th>\n      <th>Date_Sequence</th>\n    </tr>\n  </thead>\n  <tbody>\n    <tr>\n      <th>gas1</th>\n      <th>day148</th>\n    </tr>\n    <tr>\n      <th>gas2</th>\n      <th>day181</th>\n    </tr>\n    <tr>\n      <th>gas3</th>\n      <th>day14</th>\n    </tr>\n    <tr>\n      <th>diesel2</th>\n      <th>day68</th>\n    </tr>\n    <tr>\n      <th>gas1</th>\n      <th>day129</th>\n    </tr>\n  </tbody>\n</table>\n</div>",
                        "text/plain": "Empty DataFrame\nColumns: []\nIndex: [(gas1, day148), (gas2, day181), (gas3, day14), (diesel2, day68), (gas1, day129)]"
                    },
                    "execution_count": 11,
                    "metadata": {},
                    "output_type": "execute_result"
                }
            ],
            "source": "Unit_Date = pd.merge(Units[[\"Unit\"]],Demand[\"Date_Sequence\"], how = \"cross\" )\n\nUnit_Date = Unit_Date.set_index([\"Unit\",\"Date_Sequence\"], verify_integrity = True)\n\nUnit_Date.sample(5)"
        },
        {
            "cell_type": "markdown",
            "metadata": {},
            "source": "The $x_{InUse} (i,t)$ is true if the unit $i$ is in production at period $t$"
        },
        {
            "cell_type": "code",
            "execution_count": 17,
            "metadata": {},
            "outputs": [],
            "source": "Unit_Date[\"x_InUse\"] = binary_var_series(Unit_Date, mdl,name = 'x_InUse')"
        },
        {
            "cell_type": "markdown",
            "metadata": {},
            "source": "The $x_{TurnOn} (i,t)$  true if unit $i$ is turned on at period $t$"
        },
        {
            "cell_type": "code",
            "execution_count": 18,
            "metadata": {},
            "outputs": [],
            "source": "Unit_Date[\"x_TurnOn\"] = binary_var_series(Unit_Date, mdl,name = 'x_TurnOn')"
        },
        {
            "cell_type": "markdown",
            "metadata": {},
            "source": "$x_{TurnOff} (i,t)$ is true if unit $i$ is switched off at period $t$"
        },
        {
            "cell_type": "code",
            "execution_count": 19,
            "metadata": {},
            "outputs": [],
            "source": "Unit_Date[\"x_TurnOff\"] = binary_var_series(Unit_Date, mdl,name = 'x_TurnOff')                #continuous_var_series"
        },
        {
            "cell_type": "markdown",
            "metadata": {},
            "source": " production of energy for unit u at period t"
        },
        {
            "cell_type": "code",
            "execution_count": 20,
            "metadata": {},
            "outputs": [],
            "source": "Unit_Date[\"x_Production\"] = continuous_var_series(Unit_Date, mdl,name = 'x_Production')"
        },
        {
            "cell_type": "code",
            "execution_count": 21,
            "metadata": {},
            "outputs": [],
            "source": "Unit_Date = Unit_Date.reset_index(drop = False)"
        },
        {
            "cell_type": "code",
            "execution_count": 22,
            "metadata": {},
            "outputs": [
                {
                    "data": {
                        "text/html": "<div>\n<style scoped>\n    .dataframe tbody tr th:only-of-type {\n        vertical-align: middle;\n    }\n\n    .dataframe tbody tr th {\n        vertical-align: top;\n    }\n\n    .dataframe thead th {\n        text-align: right;\n    }\n</style>\n<table border=\"1\" class=\"dataframe\">\n  <thead>\n    <tr style=\"text-align: right;\">\n      <th></th>\n      <th>index</th>\n      <th>Unit</th>\n      <th>Date_Sequence</th>\n      <th>x_TurnOff</th>\n      <th>x_Production</th>\n      <th>x_InUse</th>\n      <th>x_TurnOn</th>\n    </tr>\n  </thead>\n  <tbody>\n    <tr>\n      <th>0</th>\n      <td>0</td>\n      <td>coal1</td>\n      <td>day1</td>\n      <td>x_TurnOff_0</td>\n      <td>x_Production_0</td>\n      <td>x_InUse_0</td>\n      <td>x_TurnOn_0</td>\n    </tr>\n    <tr>\n      <th>1</th>\n      <td>1</td>\n      <td>coal1</td>\n      <td>day2</td>\n      <td>x_TurnOff_1</td>\n      <td>x_Production_1</td>\n      <td>x_InUse_1</td>\n      <td>x_TurnOn_1</td>\n    </tr>\n    <tr>\n      <th>2</th>\n      <td>2</td>\n      <td>coal1</td>\n      <td>day3</td>\n      <td>x_TurnOff_2</td>\n      <td>x_Production_2</td>\n      <td>x_InUse_2</td>\n      <td>x_TurnOn_2</td>\n    </tr>\n    <tr>\n      <th>3</th>\n      <td>3</td>\n      <td>coal1</td>\n      <td>day4</td>\n      <td>x_TurnOff_3</td>\n      <td>x_Production_3</td>\n      <td>x_InUse_3</td>\n      <td>x_TurnOn_3</td>\n    </tr>\n    <tr>\n      <th>4</th>\n      <td>4</td>\n      <td>coal1</td>\n      <td>day5</td>\n      <td>x_TurnOff_4</td>\n      <td>x_Production_4</td>\n      <td>x_InUse_4</td>\n      <td>x_TurnOn_4</td>\n    </tr>\n  </tbody>\n</table>\n</div>",
                        "text/plain": "   index   Unit Date_Sequence    x_TurnOff    x_Production    x_InUse  \\\n0      0  coal1          day1  x_TurnOff_0  x_Production_0  x_InUse_0   \n1      1  coal1          day2  x_TurnOff_1  x_Production_1  x_InUse_1   \n2      2  coal1          day3  x_TurnOff_2  x_Production_2  x_InUse_2   \n3      3  coal1          day4  x_TurnOff_3  x_Production_3  x_InUse_3   \n4      4  coal1          day5  x_TurnOff_4  x_Production_4  x_InUse_4   \n\n     x_TurnOn  \n0  x_TurnOn_0  \n1  x_TurnOn_1  \n2  x_TurnOn_2  \n3  x_TurnOn_3  \n4  x_TurnOn_4  "
                    },
                    "execution_count": 22,
                    "metadata": {},
                    "output_type": "execute_result"
                }
            ],
            "source": "Unit_Date.head()"
        },
        {
            "cell_type": "code",
            "execution_count": 23,
            "metadata": {},
            "outputs": [
                {
                    "name": "stdout",
                    "output_type": "stream",
                    "text": "Model: Unit_Commitment\n - number of variables: 11520\n   - binary=7680, integer=0, continuous=3840\n - number of constraints: 0\n   - linear=0\n - parameters: defaults\n - objective: none\n - problem type is: MILP\n"
                }
            ],
            "source": "mdl.print_information()"
        },
        {
            "cell_type": "markdown",
            "metadata": {},
            "source": "# Constraints"
        },
        {
            "cell_type": "markdown",
            "metadata": {},
            "source": ""
        },
        {
            "cell_type": "markdown",
            "metadata": {},
            "source": "# 2- Linking in-use status to production\nWhenever the unit is in use, the production must be within the minimum and maximum generation."
        },
        {
            "cell_type": "code",
            "execution_count": 24,
            "metadata": {},
            "outputs": [
                {
                    "data": {
                        "text/html": "<div>\n<style scoped>\n    .dataframe tbody tr th:only-of-type {\n        vertical-align: middle;\n    }\n\n    .dataframe tbody tr th {\n        vertical-align: top;\n    }\n\n    .dataframe thead th {\n        text-align: right;\n    }\n</style>\n<table border=\"1\" class=\"dataframe\">\n  <thead>\n    <tr style=\"text-align: right;\">\n      <th></th>\n      <th>Unit</th>\n      <th>x_InUse</th>\n      <th>x_Production</th>\n      <th>min_gen</th>\n      <th>max_gen</th>\n    </tr>\n  </thead>\n  <tbody>\n    <tr>\n      <th>0</th>\n      <td>coal1</td>\n      <td>x_InUse_0</td>\n      <td>x_Production_0</td>\n      <td>100.0</td>\n      <td>425</td>\n    </tr>\n    <tr>\n      <th>1</th>\n      <td>coal1</td>\n      <td>x_InUse_1</td>\n      <td>x_Production_1</td>\n      <td>100.0</td>\n      <td>425</td>\n    </tr>\n    <tr>\n      <th>2</th>\n      <td>coal1</td>\n      <td>x_InUse_2</td>\n      <td>x_Production_2</td>\n      <td>100.0</td>\n      <td>425</td>\n    </tr>\n    <tr>\n      <th>3</th>\n      <td>coal1</td>\n      <td>x_InUse_3</td>\n      <td>x_Production_3</td>\n      <td>100.0</td>\n      <td>425</td>\n    </tr>\n    <tr>\n      <th>4</th>\n      <td>coal1</td>\n      <td>x_InUse_4</td>\n      <td>x_Production_4</td>\n      <td>100.0</td>\n      <td>425</td>\n    </tr>\n  </tbody>\n</table>\n</div>",
                        "text/plain": "    Unit    x_InUse    x_Production  min_gen  max_gen\n0  coal1  x_InUse_0  x_Production_0    100.0      425\n1  coal1  x_InUse_1  x_Production_1    100.0      425\n2  coal1  x_InUse_2  x_Production_2    100.0      425\n3  coal1  x_InUse_3  x_Production_3    100.0      425\n4  coal1  x_InUse_4  x_Production_4    100.0      425"
                    },
                    "execution_count": 24,
                    "metadata": {},
                    "output_type": "execute_result"
                }
            ],
            "source": "Production_range = pd.merge ( Unit_Date[[\"Unit\",\"x_InUse\",\"x_Production\"]] , Units[[\"Unit\",\"min_gen\",\"max_gen\"]], on = \"Unit\")\n\nProduction_range.head()"
        },
        {
            "cell_type": "markdown",
            "metadata": {},
            "source": "When in use, the production level is constrained to be between min and max generation."
        },
        {
            "cell_type": "code",
            "execution_count": 25,
            "metadata": {},
            "outputs": [],
            "source": "for row in Production_range.itertuples():\n    mdl.add_constraint ( row.x_Production <= row.x_InUse * row.max_gen )\n    mdl.add_constraint ( row.x_Production >= row.x_InUse * row.min_gen )"
        },
        {
            "cell_type": "code",
            "execution_count": 26,
            "metadata": {},
            "outputs": [
                {
                    "name": "stdout",
                    "output_type": "stream",
                    "text": "Model: Unit_Commitment\n - number of variables: 11520\n   - binary=7680, integer=0, continuous=3840\n - number of constraints: 3840\n   - linear=3840\n - parameters: defaults\n - objective: none\n - problem type is: MILP\n"
                }
            ],
            "source": "mdl.print_information()"
        },
        {
            "cell_type": "code",
            "execution_count": null,
            "metadata": {},
            "outputs": [],
            "source": ""
        },
        {
            "cell_type": "markdown",
            "metadata": {},
            "source": "# 3 -Initial state\nIf initial production is nonzero, then period #1 is not a turn_on\nelse turn_on equals in_use\nDual logic is implemented for turn_off"
        },
        {
            "cell_type": "code",
            "execution_count": 27,
            "metadata": {},
            "outputs": [
                {
                    "data": {
                        "text/html": "<div>\n<style scoped>\n    .dataframe tbody tr th:only-of-type {\n        vertical-align: middle;\n    }\n\n    .dataframe tbody tr th {\n        vertical-align: top;\n    }\n\n    .dataframe thead th {\n        text-align: right;\n    }\n</style>\n<table border=\"1\" class=\"dataframe\">\n  <thead>\n    <tr style=\"text-align: right;\">\n      <th></th>\n      <th>Unit</th>\n      <th>initial</th>\n      <th>index</th>\n      <th>Date_Sequence</th>\n      <th>x_TurnOff</th>\n      <th>x_Production</th>\n      <th>x_InUse</th>\n      <th>x_TurnOn</th>\n    </tr>\n  </thead>\n  <tbody>\n    <tr>\n      <th>0</th>\n      <td>coal1</td>\n      <td>400</td>\n      <td>0</td>\n      <td>day1</td>\n      <td>x_TurnOff_0</td>\n      <td>x_Production_0</td>\n      <td>x_InUse_0</td>\n      <td>x_TurnOn_0</td>\n    </tr>\n    <tr>\n      <th>1</th>\n      <td>coal2</td>\n      <td>350</td>\n      <td>192</td>\n      <td>day1</td>\n      <td>x_TurnOff_192</td>\n      <td>x_Production_192</td>\n      <td>x_InUse_192</td>\n      <td>x_TurnOn_192</td>\n    </tr>\n    <tr>\n      <th>2</th>\n      <td>gas1</td>\n      <td>205</td>\n      <td>384</td>\n      <td>day1</td>\n      <td>x_TurnOff_384</td>\n      <td>x_Production_384</td>\n      <td>x_InUse_384</td>\n      <td>x_TurnOn_384</td>\n    </tr>\n    <tr>\n      <th>3</th>\n      <td>gas2</td>\n      <td>52</td>\n      <td>576</td>\n      <td>day1</td>\n      <td>x_TurnOff_576</td>\n      <td>x_Production_576</td>\n      <td>x_InUse_576</td>\n      <td>x_TurnOn_576</td>\n    </tr>\n    <tr>\n      <th>4</th>\n      <td>gas3</td>\n      <td>155</td>\n      <td>768</td>\n      <td>day1</td>\n      <td>x_TurnOff_768</td>\n      <td>x_Production_768</td>\n      <td>x_InUse_768</td>\n      <td>x_TurnOn_768</td>\n    </tr>\n    <tr>\n      <th>5</th>\n      <td>gas4</td>\n      <td>150</td>\n      <td>960</td>\n      <td>day1</td>\n      <td>x_TurnOff_960</td>\n      <td>x_Production_960</td>\n      <td>x_InUse_960</td>\n      <td>x_TurnOn_960</td>\n    </tr>\n    <tr>\n      <th>6</th>\n      <td>diesel1</td>\n      <td>78</td>\n      <td>1152</td>\n      <td>day1</td>\n      <td>x_TurnOff_1152</td>\n      <td>x_Production_1152</td>\n      <td>x_InUse_1152</td>\n      <td>x_TurnOn_1152</td>\n    </tr>\n    <tr>\n      <th>7</th>\n      <td>diesel2</td>\n      <td>76</td>\n      <td>1344</td>\n      <td>day1</td>\n      <td>x_TurnOff_1344</td>\n      <td>x_Production_1344</td>\n      <td>x_InUse_1344</td>\n      <td>x_TurnOn_1344</td>\n    </tr>\n    <tr>\n      <th>8</th>\n      <td>diesel3</td>\n      <td>0</td>\n      <td>1536</td>\n      <td>day1</td>\n      <td>x_TurnOff_1536</td>\n      <td>x_Production_1536</td>\n      <td>x_InUse_1536</td>\n      <td>x_TurnOn_1536</td>\n    </tr>\n    <tr>\n      <th>9</th>\n      <td>diesel4</td>\n      <td>0</td>\n      <td>1728</td>\n      <td>day1</td>\n      <td>x_TurnOff_1728</td>\n      <td>x_Production_1728</td>\n      <td>x_InUse_1728</td>\n      <td>x_TurnOn_1728</td>\n    </tr>\n  </tbody>\n</table>\n</div>",
                        "text/plain": "      Unit  initial  index Date_Sequence       x_TurnOff       x_Production  \\\n0    coal1      400      0          day1     x_TurnOff_0     x_Production_0   \n1    coal2      350    192          day1   x_TurnOff_192   x_Production_192   \n2     gas1      205    384          day1   x_TurnOff_384   x_Production_384   \n3     gas2       52    576          day1   x_TurnOff_576   x_Production_576   \n4     gas3      155    768          day1   x_TurnOff_768   x_Production_768   \n5     gas4      150    960          day1   x_TurnOff_960   x_Production_960   \n6  diesel1       78   1152          day1  x_TurnOff_1152  x_Production_1152   \n7  diesel2       76   1344          day1  x_TurnOff_1344  x_Production_1344   \n8  diesel3        0   1536          day1  x_TurnOff_1536  x_Production_1536   \n9  diesel4        0   1728          day1  x_TurnOff_1728  x_Production_1728   \n\n        x_InUse       x_TurnOn  \n0     x_InUse_0     x_TurnOn_0  \n1   x_InUse_192   x_TurnOn_192  \n2   x_InUse_384   x_TurnOn_384  \n3   x_InUse_576   x_TurnOn_576  \n4   x_InUse_768   x_TurnOn_768  \n5   x_InUse_960   x_TurnOn_960  \n6  x_InUse_1152  x_TurnOn_1152  \n7  x_InUse_1344  x_TurnOn_1344  \n8  x_InUse_1536  x_TurnOn_1536  \n9  x_InUse_1728  x_TurnOn_1728  "
                    },
                    "execution_count": 27,
                    "metadata": {},
                    "output_type": "execute_result"
                }
            ],
            "source": "initial_state  = Units [[\"Unit\",\"initial\"]]\nday_1 = Unit_Date[Unit_Date[\"Date_Sequence\"]==\"day1\"]\n\ninitial_state = pd.merge (initial_state, day_1, on = \"Unit\")\ninitial_state"
        },
        {
            "cell_type": "code",
            "execution_count": 28,
            "metadata": {},
            "outputs": [],
            "source": "for row in initial_state.itertuples():\n    if row.initial > 0 :   \n            \n            mdl.add_constraint  ( row.x_TurnOn == 0)                   #if u is already running, not starting up\n            \n            mdl.add_constraint  ( row.x_TurnOff +  row.x_InUse == 1)   # turnoff iff not in use\n            \n            \n    else: \n        \n           mdl.add_constraint ( row.x_TurnOn  == row.x_InUse )        # turn on at 1 iff in use at 1\n            \n           mdl.add_constraint(row.x_TurnOff ==0)                      # already off, not switched off at t==1"
        },
        {
            "cell_type": "code",
            "execution_count": 29,
            "metadata": {},
            "outputs": [
                {
                    "name": "stdout",
                    "output_type": "stream",
                    "text": "Model: Unit_Commitment\n - number of variables: 11520\n   - binary=7680, integer=0, continuous=3840\n - number of constraints: 3860\n   - linear=3860\n - parameters: defaults\n - objective: none\n - problem type is: MILP\n"
                }
            ],
            "source": "mdl.print_information()"
        },
        {
            "cell_type": "markdown",
            "metadata": {},
            "source": "# 4 Ramp-up / ramp-down constraint"
        },
        {
            "cell_type": "markdown",
            "metadata": {},
            "source": "ramp up and down constraints for day 1\n    \nVariations of the production level over time in a unit is constrained by a ramp-up / ramp-down process.\n\nWe use the  pandas groupby operation to collect all decision variables for each unit in separate series. Then, we iterate over units to post constraints enforcing the ramp-up / ramp-down process by setting upper bounds on the variation of the production level for consecutive periods."
        },
        {
            "cell_type": "code",
            "execution_count": 30,
            "metadata": {},
            "outputs": [],
            "source": "for unit in Units[\"Unit\"].values:\n    a = Unit_Date [ (Unit_Date[\"Unit\"]==unit) & (Unit_Date[\"Date_Sequence\"]==\"day1\")]\n    b = Units [ Units[\"Unit\"]==unit][[\"Unit\",\"initial\",\"ramp_up\",\"ramp_down\"]]\n    r = pd.merge (a , b,  on =\"Unit\")\n    \n    mdl.add_constraint ( r.x_Production[0] - r.initial[0] <= r.ramp_up[0] )\n    \n    mdl.add_constraint( r.initial[0] - r.x_Production[0] <= r.ramp_down[0])\n    "
        },
        {
            "cell_type": "markdown",
            "metadata": {},
            "source": "    # ramp up and down constraints for remaining days"
        },
        {
            "cell_type": "code",
            "execution_count": 31,
            "metadata": {},
            "outputs": [
                {
                    "data": {
                        "text/html": "<div>\n<style scoped>\n    .dataframe tbody tr th:only-of-type {\n        vertical-align: middle;\n    }\n\n    .dataframe tbody tr th {\n        vertical-align: top;\n    }\n\n    .dataframe thead th {\n        text-align: right;\n    }\n</style>\n<table border=\"1\" class=\"dataframe\">\n  <thead>\n    <tr style=\"text-align: right;\">\n      <th></th>\n      <th>Unit</th>\n      <th>Date_Sequence</th>\n      <th>Current_Day_Production</th>\n      <th>Next_Day_Production</th>\n      <th>ramp_up</th>\n      <th>ramp_down</th>\n    </tr>\n  </thead>\n  <tbody>\n    <tr>\n      <th>331</th>\n      <td>coal2</td>\n      <td>day141</td>\n      <td>x_Production_332</td>\n      <td>x_Production_333</td>\n      <td>150.0</td>\n      <td>198.0</td>\n    </tr>\n    <tr>\n      <th>670</th>\n      <td>gas2</td>\n      <td>day98</td>\n      <td>x_Production_673</td>\n      <td>x_Production_674</td>\n      <td>94.8</td>\n      <td>101.7</td>\n    </tr>\n    <tr>\n      <th>1057</th>\n      <td>gas4</td>\n      <td>day103</td>\n      <td>x_Production_1062</td>\n      <td>x_Production_1063</td>\n      <td>50.0</td>\n      <td>60.0</td>\n    </tr>\n    <tr>\n      <th>1470</th>\n      <td>diesel2</td>\n      <td>day134</td>\n      <td>x_Production_1477</td>\n      <td>x_Production_1478</td>\n      <td>60.0</td>\n      <td>45.0</td>\n    </tr>\n    <tr>\n      <th>1268</th>\n      <td>diesel1</td>\n      <td>day123</td>\n      <td>x_Production_1274</td>\n      <td>x_Production_1275</td>\n      <td>40.0</td>\n      <td>24.0</td>\n    </tr>\n    <tr>\n      <th>1558</th>\n      <td>diesel3</td>\n      <td>day31</td>\n      <td>x_Production_1566</td>\n      <td>x_Production_1567</td>\n      <td>20.0</td>\n      <td>20.0</td>\n    </tr>\n    <tr>\n      <th>1295</th>\n      <td>diesel1</td>\n      <td>day150</td>\n      <td>x_Production_1301</td>\n      <td>x_Production_1302</td>\n      <td>40.0</td>\n      <td>24.0</td>\n    </tr>\n  </tbody>\n</table>\n</div>",
                        "text/plain": "         Unit Date_Sequence Current_Day_Production Next_Day_Production  \\\n331     coal2        day141       x_Production_332    x_Production_333   \n670      gas2         day98       x_Production_673    x_Production_674   \n1057     gas4        day103      x_Production_1062   x_Production_1063   \n1470  diesel2        day134      x_Production_1477   x_Production_1478   \n1268  diesel1        day123      x_Production_1274   x_Production_1275   \n1558  diesel3         day31      x_Production_1566   x_Production_1567   \n1295  diesel1        day150      x_Production_1301   x_Production_1302   \n\n      ramp_up  ramp_down  \n331     150.0      198.0  \n670      94.8      101.7  \n1057     50.0       60.0  \n1470     60.0       45.0  \n1268     40.0       24.0  \n1558     20.0       20.0  \n1295     40.0       24.0  "
                    },
                    "execution_count": 31,
                    "metadata": {},
                    "output_type": "execute_result"
                }
            ],
            "source": "Ramp_Table = pd.DataFrame()\n\nfor unit in Units[\"Unit\"].values:\n    a = Unit_Date[Unit_Date[\"Unit\"]==unit][[\"Unit\",\"Date_Sequence\",\"x_Production\"]]\n    a.rename(columns = {\"x_Production\":\"Current_Day_Production\"}, inplace = True)   \n    a[\"Next_Day_Production\"] = a[\"Current_Day_Production\"].shift(-1)       # shift 1 day to calculate next day production\n    a = a.iloc[0:-1]                                                       # get rid of last row, which has a NaN for next day production\n    \n    Ramp_Table = pd.concat([Ramp_Table,a])\n\nRamp_Table = pd.merge(Ramp_Table,Units[[\"Unit\",'ramp_up','ramp_down']], on = \"Unit\") \n\nRamp_Table.sample(7)"
        },
        {
            "cell_type": "code",
            "execution_count": 32,
            "metadata": {},
            "outputs": [],
            "source": "for row in Ramp_Table.itertuples():\n    mdl.add_constraint(row.Next_Day_Production - row.Current_Day_Production <= row.ramp_up)\n    \n    mdl.add_constraint(row.Current_Day_Production - row.Next_Day_Production <= row.ramp_down)"
        },
        {
            "cell_type": "code",
            "execution_count": 33,
            "metadata": {},
            "outputs": [
                {
                    "name": "stdout",
                    "output_type": "stream",
                    "text": "Model: Unit_Commitment\n - number of variables: 11520\n   - binary=7680, integer=0, continuous=3840\n - number of constraints: 7700\n   - linear=7700\n - parameters: defaults\n - objective: none\n - problem type is: MILP\n"
                }
            ],
            "source": "mdl.print_information()"
        },
        {
            "cell_type": "markdown",
            "metadata": {},
            "source": "# 5 Turn on / turn off\nThe following constraints determine when a unit is turned on or off.\n\nWe use the same pandas groupby operation as in the previous constraint to iterate over the sequence of decision variables for each unit."
        },
        {
            "cell_type": "code",
            "execution_count": 34,
            "metadata": {},
            "outputs": [
                {
                    "data": {
                        "text/html": "<div>\n<style scoped>\n    .dataframe tbody tr th:only-of-type {\n        vertical-align: middle;\n    }\n\n    .dataframe tbody tr th {\n        vertical-align: top;\n    }\n\n    .dataframe thead th {\n        text-align: right;\n    }\n</style>\n<table border=\"1\" class=\"dataframe\">\n  <thead>\n    <tr style=\"text-align: right;\">\n      <th></th>\n      <th>Unit</th>\n      <th>Current_Day_InUse</th>\n      <th>Current_Day_TurnOn</th>\n      <th>Current_Day_TurnOff</th>\n      <th>Next_Day_InUse</th>\n      <th>Next_Day_TurnOn</th>\n      <th>Next_Day_TurnOff</th>\n    </tr>\n  </thead>\n  <tbody>\n    <tr>\n      <th>1571</th>\n      <td>diesel3</td>\n      <td>x_InUse_1571</td>\n      <td>x_TurnOn_1571</td>\n      <td>x_TurnOff_1571</td>\n      <td>x_InUse_1572</td>\n      <td>x_TurnOn_1572</td>\n      <td>x_TurnOff_1572</td>\n    </tr>\n    <tr>\n      <th>1150</th>\n      <td>gas4</td>\n      <td>x_InUse_1150</td>\n      <td>x_TurnOn_1150</td>\n      <td>x_TurnOff_1150</td>\n      <td>x_InUse_1151</td>\n      <td>x_TurnOn_1151</td>\n      <td>x_TurnOff_1151</td>\n    </tr>\n    <tr>\n      <th>1513</th>\n      <td>diesel2</td>\n      <td>x_InUse_1513</td>\n      <td>x_TurnOn_1513</td>\n      <td>x_TurnOff_1513</td>\n      <td>x_InUse_1514</td>\n      <td>x_TurnOn_1514</td>\n      <td>x_TurnOff_1514</td>\n    </tr>\n    <tr>\n      <th>1457</th>\n      <td>diesel2</td>\n      <td>x_InUse_1457</td>\n      <td>x_TurnOn_1457</td>\n      <td>x_TurnOff_1457</td>\n      <td>x_InUse_1458</td>\n      <td>x_TurnOn_1458</td>\n      <td>x_TurnOff_1458</td>\n    </tr>\n    <tr>\n      <th>1310</th>\n      <td>diesel1</td>\n      <td>x_InUse_1310</td>\n      <td>x_TurnOn_1310</td>\n      <td>x_TurnOff_1310</td>\n      <td>x_InUse_1311</td>\n      <td>x_TurnOn_1311</td>\n      <td>x_TurnOff_1311</td>\n    </tr>\n    <tr>\n      <th>602</th>\n      <td>gas2</td>\n      <td>x_InUse_602</td>\n      <td>x_TurnOn_602</td>\n      <td>x_TurnOff_602</td>\n      <td>x_InUse_603</td>\n      <td>x_TurnOn_603</td>\n      <td>x_TurnOff_603</td>\n    </tr>\n    <tr>\n      <th>1518</th>\n      <td>diesel2</td>\n      <td>x_InUse_1518</td>\n      <td>x_TurnOn_1518</td>\n      <td>x_TurnOff_1518</td>\n      <td>x_InUse_1519</td>\n      <td>x_TurnOn_1519</td>\n      <td>x_TurnOff_1519</td>\n    </tr>\n    <tr>\n      <th>631</th>\n      <td>gas2</td>\n      <td>x_InUse_631</td>\n      <td>x_TurnOn_631</td>\n      <td>x_TurnOff_631</td>\n      <td>x_InUse_632</td>\n      <td>x_TurnOn_632</td>\n      <td>x_TurnOff_632</td>\n    </tr>\n    <tr>\n      <th>881</th>\n      <td>gas3</td>\n      <td>x_InUse_881</td>\n      <td>x_TurnOn_881</td>\n      <td>x_TurnOff_881</td>\n      <td>x_InUse_882</td>\n      <td>x_TurnOn_882</td>\n      <td>x_TurnOff_882</td>\n    </tr>\n    <tr>\n      <th>784</th>\n      <td>gas3</td>\n      <td>x_InUse_784</td>\n      <td>x_TurnOn_784</td>\n      <td>x_TurnOff_784</td>\n      <td>x_InUse_785</td>\n      <td>x_TurnOn_785</td>\n      <td>x_TurnOff_785</td>\n    </tr>\n  </tbody>\n</table>\n</div>",
                        "text/plain": "         Unit Current_Day_InUse Current_Day_TurnOn Current_Day_TurnOff  \\\n1571  diesel3      x_InUse_1571      x_TurnOn_1571      x_TurnOff_1571   \n1150     gas4      x_InUse_1150      x_TurnOn_1150      x_TurnOff_1150   \n1513  diesel2      x_InUse_1513      x_TurnOn_1513      x_TurnOff_1513   \n1457  diesel2      x_InUse_1457      x_TurnOn_1457      x_TurnOff_1457   \n1310  diesel1      x_InUse_1310      x_TurnOn_1310      x_TurnOff_1310   \n602      gas2       x_InUse_602       x_TurnOn_602       x_TurnOff_602   \n1518  diesel2      x_InUse_1518      x_TurnOn_1518      x_TurnOff_1518   \n631      gas2       x_InUse_631       x_TurnOn_631       x_TurnOff_631   \n881      gas3       x_InUse_881       x_TurnOn_881       x_TurnOff_881   \n784      gas3       x_InUse_784       x_TurnOn_784       x_TurnOff_784   \n\n     Next_Day_InUse Next_Day_TurnOn Next_Day_TurnOff  \n1571   x_InUse_1572   x_TurnOn_1572   x_TurnOff_1572  \n1150   x_InUse_1151   x_TurnOn_1151   x_TurnOff_1151  \n1513   x_InUse_1514   x_TurnOn_1514   x_TurnOff_1514  \n1457   x_InUse_1458   x_TurnOn_1458   x_TurnOff_1458  \n1310   x_InUse_1311   x_TurnOn_1311   x_TurnOff_1311  \n602     x_InUse_603    x_TurnOn_603    x_TurnOff_603  \n1518   x_InUse_1519   x_TurnOn_1519   x_TurnOff_1519  \n631     x_InUse_632    x_TurnOn_632    x_TurnOff_632  \n881     x_InUse_882    x_TurnOn_882    x_TurnOff_882  \n784     x_InUse_785    x_TurnOn_785    x_TurnOff_785  "
                    },
                    "metadata": {},
                    "output_type": "display_data"
                }
            ],
            "source": "Status = pd.DataFrame([])\n\nfor unit in Units[\"Unit\"].values:\n    a = Unit_Date[Unit_Date[\"Unit\"]==unit][[\"Unit\",\"x_InUse\",\"x_TurnOn\",\"x_TurnOff\"]]\n    \n    a.rename(columns = {\"x_InUse\":\"Current_Day_InUse\"}, inplace = True)\n    a.rename(columns = {\"x_TurnOn\":\"Current_Day_TurnOn\"}, inplace = True)\n    a.rename(columns = {\"x_TurnOff\":\"Current_Day_TurnOff\"}, inplace = True)\n    \n    a[\"Next_Day_InUse\"] = a[\"Current_Day_InUse\"].shift(-1)       # shift 1 day to calculate next day InUse\n    a[\"Next_Day_TurnOn\"] = a[\"Current_Day_TurnOn\"].shift(-1)       # shift 1 day to calculate next day TurnOn\n    a[\"Next_Day_TurnOff\"] = a[\"Current_Day_TurnOff\"].shift(-1)       # shift 1 day to calculate next day TurnOff\n    \n    a = a.iloc[0:-1]                                                # get rid of last row, which has a NaN\n    \n    Status = pd.concat([Status,a])\n        \ndisplay(Status.sample(10))"
        },
        {
            "cell_type": "markdown",
            "metadata": {},
            "source": "if unit is off at time t and on at time t+1, then it was turned on at time t+1\n\nif unit is on at time t and off at time t+1, then it was turned off at time t+1"
        },
        {
            "cell_type": "code",
            "execution_count": 35,
            "metadata": {},
            "outputs": [],
            "source": "for row in Status.itertuples():\n    \n    #print(row.Next_Day_InUse - row.Current_Day_InUse <= row.Next_Day_TurnOn)\n    mdl.add_constraint(row.Next_Day_InUse - row.Current_Day_InUse <= row.Next_Day_TurnOn)\n    \n    #print(row.Current_Day_InUse - row.Next_Day_InUse + row.Next_Day_TurnOn == row.Next_Day_TurnOff)\n    mdl.add_constraint(row.Current_Day_InUse - row.Next_Day_InUse + row.Next_Day_TurnOn == row.Next_Day_TurnOff)"
        },
        {
            "cell_type": "code",
            "execution_count": 36,
            "metadata": {},
            "outputs": [
                {
                    "name": "stdout",
                    "output_type": "stream",
                    "text": "Model: Unit_Commitment\n - number of variables: 11520\n   - binary=7680, integer=0, continuous=3840\n - number of constraints: 11520\n   - linear=11520\n - parameters: defaults\n - objective: none\n - problem type is: MILP\n"
                }
            ],
            "source": "mdl.print_information()"
        },
        {
            "cell_type": "markdown",
            "metadata": {},
            "source": "# 6 Minimum uptime and downtime\nWhen a unit is turned on, it cannot be turned off before a minimum uptime. Conversely, when a unit is turned off, it cannot be turned on again before a minimum downtime.\n\nAgain, let's use the same pandas groupby operation to implement this constraint for each unit."
        },
        {
            "cell_type": "code",
            "execution_count": 37,
            "metadata": {},
            "outputs": [],
            "source": "T = len(Demand)\n\nfor unit in Units[\"Unit\"].values:\n    a= Units[Units[\"Unit\"]==unit][[\"Unit\",\"min_uptime\",\"min_downtime\"]]\n    \n    min_uptime = a.min_uptime.values[0] \n    min_downtime = a.min_downtime.values[0] \n    \n    for t in range(min_uptime,T):\n        mdl.add_constraint(mdl.sum(  Unit_Date[(t - min_uptime) + 1   :   t + 1 ][[\"x_TurnOn\"]].values) <= Unit_Date[\"x_InUse\"][t] ) \n        \n        \n    for t in range(min_downtime, T):   \n        mdl.add_constraint(mdl.sum( Unit_Date[(t - min_downtime) + 1:t + 1][\"x_TurnOff\"].values)  <= 1 - Unit_Date[\"x_InUse\"][t]  ) "
        },
        {
            "cell_type": "code",
            "execution_count": 38,
            "metadata": {},
            "outputs": [
                {
                    "name": "stdout",
                    "output_type": "stream",
                    "text": "Model: Unit_Commitment\n - number of variables: 11520\n   - binary=7680, integer=0, continuous=3840\n - number of constraints: 15263\n   - linear=15263\n - parameters: defaults\n - objective: none\n - problem type is: MILP\n"
                }
            ],
            "source": "mdl.print_information()"
        },
        {
            "cell_type": "code",
            "execution_count": null,
            "metadata": {},
            "outputs": [],
            "source": ""
        },
        {
            "cell_type": "markdown",
            "metadata": {},
            "source": "# 1- Demand"
        },
        {
            "cell_type": "code",
            "execution_count": 39,
            "metadata": {},
            "outputs": [
                {
                    "data": {
                        "text/html": "<div>\n<style scoped>\n    .dataframe tbody tr th:only-of-type {\n        vertical-align: middle;\n    }\n\n    .dataframe tbody tr th {\n        vertical-align: top;\n    }\n\n    .dataframe thead th {\n        text-align: right;\n    }\n</style>\n<table border=\"1\" class=\"dataframe\">\n  <thead>\n    <tr style=\"text-align: right;\">\n      <th></th>\n      <th>Date_Sequence</th>\n      <th>Total_day_Production</th>\n      <th>demand</th>\n      <th>Date</th>\n    </tr>\n  </thead>\n  <tbody>\n    <tr>\n      <th>0</th>\n      <td>day1</td>\n      <td>x_Production_0+x_Production_192+x_Production_384+x_Production_576+x_Production_768+x_Production_960+x_Production_1152+x_Production_1344+x_Production_1536+x_Production_1728</td>\n      <td>1259.0</td>\n      <td>2022-04-22</td>\n    </tr>\n    <tr>\n      <th>1</th>\n      <td>day10</td>\n      <td>x_Production_9+x_Production_201+x_Production_393+x_Production_585+x_Production_777+x_Production_969+x_Production_1161+x_Production_1353+x_Production_1545+x_Production_1737</td>\n      <td>1158.0</td>\n      <td>2022-05-01</td>\n    </tr>\n  </tbody>\n</table>\n</div>",
                        "text/plain": "  Date_Sequence  \\\n0          day1   \n1         day10   \n\n                                                                                                                                                          Total_day_Production  \\\n0  x_Production_0+x_Production_192+x_Production_384+x_Production_576+x_Production_768+x_Production_960+x_Production_1152+x_Production_1344+x_Production_1536+x_Production_1728   \n1  x_Production_9+x_Production_201+x_Production_393+x_Production_585+x_Production_777+x_Production_969+x_Production_1161+x_Production_1353+x_Production_1545+x_Production_1737   \n\n   demand        Date  \n0  1259.0  2022-04-22  \n1  1158.0  2022-05-01  "
                    },
                    "execution_count": 39,
                    "metadata": {},
                    "output_type": "execute_result"
                }
            ],
            "source": "Total_day_Production = Unit_Date[[\"Date_Sequence\",\"x_Production\"]].groupby(\"Date_Sequence\").agg(CplexSum(mdl)).rename(columns={\"x_Production\":\"Total_day_Production\"})\nTotal_day_Production = pd.merge(Total_day_Production, Demand, on = \"Date_Sequence\")\n\nTotal_day_Production.head(2)"
        },
        {
            "cell_type": "code",
            "execution_count": 40,
            "metadata": {},
            "outputs": [],
            "source": "for row in Total_day_Production.itertuples():\n    \n    mdl.add_constraint(row.Total_day_Production >= row.demand)"
        },
        {
            "cell_type": "code",
            "execution_count": 41,
            "metadata": {},
            "outputs": [
                {
                    "name": "stdout",
                    "output_type": "stream",
                    "text": "Model: Unit_Commitment\n - number of variables: 11520\n   - binary=7680, integer=0, continuous=3840\n - number of constraints: 15455\n   - linear=15455\n - parameters: defaults\n - objective: none\n - problem type is: MILP\n"
                }
            ],
            "source": "mdl.print_information()"
        },
        {
            "cell_type": "code",
            "execution_count": null,
            "metadata": {},
            "outputs": [],
            "source": ""
        },
        {
            "cell_type": "code",
            "execution_count": null,
            "metadata": {},
            "outputs": [],
            "source": ""
        },
        {
            "cell_type": "code",
            "execution_count": null,
            "metadata": {},
            "outputs": [],
            "source": ""
        },
        {
            "cell_type": "code",
            "execution_count": null,
            "metadata": {},
            "outputs": [],
            "source": ""
        },
        {
            "cell_type": "code",
            "execution_count": null,
            "metadata": {},
            "outputs": [],
            "source": ""
        },
        {
            "cell_type": "code",
            "execution_count": null,
            "metadata": {},
            "outputs": [],
            "source": ""
        },
        {
            "cell_type": "code",
            "execution_count": null,
            "metadata": {},
            "outputs": [],
            "source": ""
        },
        {
            "cell_type": "code",
            "execution_count": null,
            "metadata": {},
            "outputs": [],
            "source": ""
        },
        {
            "cell_type": "code",
            "execution_count": null,
            "metadata": {},
            "outputs": [],
            "source": ""
        },
        {
            "cell_type": "markdown",
            "metadata": {},
            "source": ""
        },
        {
            "cell_type": "code",
            "execution_count": null,
            "metadata": {},
            "outputs": [],
            "source": ""
        },
        {
            "cell_type": "code",
            "execution_count": null,
            "metadata": {},
            "outputs": [],
            "source": ""
        },
        {
            "cell_type": "code",
            "execution_count": null,
            "metadata": {},
            "outputs": [],
            "source": ""
        },
        {
            "cell_type": "code",
            "execution_count": null,
            "metadata": {},
            "outputs": [],
            "source": ""
        },
        {
            "cell_type": "code",
            "execution_count": 91,
            "metadata": {},
            "outputs": [
                {
                    "data": {
                        "text/html": "<div>\n<style scoped>\n    .dataframe tbody tr th:only-of-type {\n        vertical-align: middle;\n    }\n\n    .dataframe tbody tr th {\n        vertical-align: top;\n    }\n\n    .dataframe thead th {\n        text-align: right;\n    }\n</style>\n<table border=\"1\" class=\"dataframe\">\n  <thead>\n    <tr style=\"text-align: right;\">\n      <th></th>\n      <th>index</th>\n      <th>energy</th>\n      <th>initial</th>\n      <th>min_gen</th>\n      <th>max_gen</th>\n      <th>operating_max_gen</th>\n      <th>min_uptime</th>\n      <th>min_downtime</th>\n      <th>ramp_up</th>\n      <th>ramp_down</th>\n      <th>start_cost</th>\n      <th>fixed_cost</th>\n      <th>variable_cost</th>\n      <th>Unit</th>\n      <th>co2_cost</th>\n    </tr>\n  </thead>\n  <tbody>\n    <tr>\n      <th>0</th>\n      <td>0</td>\n      <td>coal</td>\n      <td>400</td>\n      <td>100.0</td>\n      <td>425</td>\n      <td>400</td>\n      <td>15</td>\n      <td>9</td>\n      <td>212.0</td>\n      <td>183.0</td>\n      <td>5000</td>\n      <td>208.61</td>\n      <td>22.536</td>\n      <td>coal1</td>\n      <td>30</td>\n    </tr>\n  </tbody>\n</table>\n</div>",
                        "text/plain": "   index energy  initial  min_gen  max_gen  operating_max_gen  min_uptime  \\\n0      0   coal      400    100.0      425                400          15   \n\n   min_downtime  ramp_up  ramp_down  start_cost  fixed_cost  variable_cost  \\\n0             9    212.0      183.0        5000      208.61         22.536   \n\n    Unit  co2_cost  \n0  coal1        30  "
                    },
                    "execution_count": 91,
                    "metadata": {},
                    "output_type": "execute_result"
                }
            ],
            "source": "Units.head(1)"
        },
        {
            "cell_type": "code",
            "execution_count": null,
            "metadata": {},
            "outputs": [],
            "source": ""
        },
        {
            "cell_type": "code",
            "execution_count": 92,
            "metadata": {},
            "outputs": [
                {
                    "name": "stdout",
                    "output_type": "stream",
                    "text": "Model: Unit_Commitment\n - number of variables: 7680\n   - binary=3840, integer=0, continuous=3840\n - number of constraints: 15455\n   - linear=15455\n - parameters: defaults\n - objective: none\n - problem type is: MILP\n"
                }
            ],
            "source": "mdl.print_information()"
        },
        {
            "cell_type": "markdown",
            "metadata": {},
            "source": "demand constraint\n\nTotal production level must be equal or higher than demand on any period.\n\nThis time, the pandas operation groupby is performed on \"periods\" since we have to iterate over the list of all units for each period."
        },
        {
            "cell_type": "code",
            "execution_count": 93,
            "metadata": {},
            "outputs": [
                {
                    "data": {
                        "text/html": "<div>\n<style scoped>\n    .dataframe tbody tr th:only-of-type {\n        vertical-align: middle;\n    }\n\n    .dataframe tbody tr th {\n        vertical-align: top;\n    }\n\n    .dataframe thead th {\n        text-align: right;\n    }\n</style>\n<table border=\"1\" class=\"dataframe\">\n  <thead>\n    <tr style=\"text-align: right;\">\n      <th></th>\n      <th>Unit</th>\n      <th>Date_Sequence</th>\n      <th>x_InUse</th>\n      <th>x_TurnOn</th>\n      <th>x_TurnOff</th>\n      <th>x_Production</th>\n    </tr>\n  </thead>\n  <tbody>\n    <tr>\n      <th>0</th>\n      <td>coal1</td>\n      <td>day1</td>\n      <td>x_InUse_coal1_day1</td>\n      <td>x_TurnOn_coal1_day1</td>\n      <td>x_TurnOff_coal1_day1</td>\n      <td>x_Production_coal1_day1</td>\n    </tr>\n  </tbody>\n</table>\n</div>",
                        "text/plain": "    Unit Date_Sequence             x_InUse             x_TurnOn  \\\n0  coal1          day1  x_InUse_coal1_day1  x_TurnOn_coal1_day1   \n\n              x_TurnOff             x_Production  \n0  x_TurnOff_coal1_day1  x_Production_coal1_day1  "
                    },
                    "execution_count": 93,
                    "metadata": {},
                    "output_type": "execute_result"
                }
            ],
            "source": "Unit_Date.head(1)"
        },
        {
            "cell_type": "code",
            "execution_count": null,
            "metadata": {},
            "outputs": [],
            "source": ""
        },
        {
            "cell_type": "code",
            "execution_count": null,
            "metadata": {},
            "outputs": [],
            "source": ""
        },
        {
            "cell_type": "code",
            "execution_count": 94,
            "metadata": {},
            "outputs": [
                {
                    "name": "stdout",
                    "output_type": "stream",
                    "text": "Model: Unit_Commitment\n - number of variables: 7680\n   - binary=3840, integer=0, continuous=3840\n - number of constraints: 15455\n   - linear=15455\n - parameters: defaults\n - objective: none\n - problem type is: MILP\n"
                }
            ],
            "source": "mdl.print_information()"
        },
        {
            "cell_type": "markdown",
            "metadata": {},
            "source": "# KPIs"
        },
        {
            "cell_type": "code",
            "execution_count": 42,
            "metadata": {},
            "outputs": [
                {
                    "data": {
                        "text/html": "<div>\n<style scoped>\n    .dataframe tbody tr th:only-of-type {\n        vertical-align: middle;\n    }\n\n    .dataframe tbody tr th {\n        vertical-align: top;\n    }\n\n    .dataframe thead th {\n        text-align: right;\n    }\n</style>\n<table border=\"1\" class=\"dataframe\">\n  <thead>\n    <tr style=\"text-align: right;\">\n      <th></th>\n      <th>index</th>\n      <th>Unit</th>\n      <th>Date_Sequence</th>\n      <th>x_TurnOff</th>\n      <th>x_Production</th>\n      <th>x_InUse</th>\n      <th>x_TurnOn</th>\n      <th>fixed_cost</th>\n      <th>variable_cost</th>\n      <th>start_cost</th>\n      <th>co2_cost</th>\n    </tr>\n  </thead>\n  <tbody>\n    <tr>\n      <th>0</th>\n      <td>0</td>\n      <td>coal1</td>\n      <td>day1</td>\n      <td>x_TurnOff_0</td>\n      <td>x_Production_0</td>\n      <td>x_InUse_0</td>\n      <td>x_TurnOn_0</td>\n      <td>208.61</td>\n      <td>22.536</td>\n      <td>5000</td>\n      <td>30</td>\n    </tr>\n    <tr>\n      <th>1</th>\n      <td>1</td>\n      <td>coal1</td>\n      <td>day2</td>\n      <td>x_TurnOff_1</td>\n      <td>x_Production_1</td>\n      <td>x_InUse_1</td>\n      <td>x_TurnOn_1</td>\n      <td>208.61</td>\n      <td>22.536</td>\n      <td>5000</td>\n      <td>30</td>\n    </tr>\n    <tr>\n      <th>2</th>\n      <td>2</td>\n      <td>coal1</td>\n      <td>day3</td>\n      <td>x_TurnOff_2</td>\n      <td>x_Production_2</td>\n      <td>x_InUse_2</td>\n      <td>x_TurnOn_2</td>\n      <td>208.61</td>\n      <td>22.536</td>\n      <td>5000</td>\n      <td>30</td>\n    </tr>\n    <tr>\n      <th>3</th>\n      <td>3</td>\n      <td>coal1</td>\n      <td>day4</td>\n      <td>x_TurnOff_3</td>\n      <td>x_Production_3</td>\n      <td>x_InUse_3</td>\n      <td>x_TurnOn_3</td>\n      <td>208.61</td>\n      <td>22.536</td>\n      <td>5000</td>\n      <td>30</td>\n    </tr>\n    <tr>\n      <th>4</th>\n      <td>4</td>\n      <td>coal1</td>\n      <td>day5</td>\n      <td>x_TurnOff_4</td>\n      <td>x_Production_4</td>\n      <td>x_InUse_4</td>\n      <td>x_TurnOn_4</td>\n      <td>208.61</td>\n      <td>22.536</td>\n      <td>5000</td>\n      <td>30</td>\n    </tr>\n  </tbody>\n</table>\n</div>",
                        "text/plain": "   index   Unit Date_Sequence    x_TurnOff    x_Production    x_InUse  \\\n0      0  coal1          day1  x_TurnOff_0  x_Production_0  x_InUse_0   \n1      1  coal1          day2  x_TurnOff_1  x_Production_1  x_InUse_1   \n2      2  coal1          day3  x_TurnOff_2  x_Production_2  x_InUse_2   \n3      3  coal1          day4  x_TurnOff_3  x_Production_3  x_InUse_3   \n4      4  coal1          day5  x_TurnOff_4  x_Production_4  x_InUse_4   \n\n     x_TurnOn  fixed_cost  variable_cost  start_cost  co2_cost  \n0  x_TurnOn_0      208.61         22.536        5000        30  \n1  x_TurnOn_1      208.61         22.536        5000        30  \n2  x_TurnOn_2      208.61         22.536        5000        30  \n3  x_TurnOn_3      208.61         22.536        5000        30  \n4  x_TurnOn_4      208.61         22.536        5000        30  "
                    },
                    "execution_count": 42,
                    "metadata": {},
                    "output_type": "execute_result"
                }
            ],
            "source": "cost = pd.merge ( Unit_Date, Units[[\"Unit\",\"fixed_cost\",\"variable_cost\",\"start_cost\",\"co2_cost\"]], on = \"Unit\")\ncost.head()"
        },
        {
            "cell_type": "code",
            "execution_count": 43,
            "metadata": {},
            "outputs": [],
            "source": "total_fixed_cost = mdl.sum(cost.x_InUse * cost.fixed_cost)\ntotal_variable_cost = mdl.sum(cost.x_Production * cost.variable_cost)\ntotal_startup_cost = mdl.sum(cost.x_TurnOn * cost.start_cost)\ntotal_co2_cost = mdl.sum(cost.x_Production * cost.co2_cost)\n\ntotal_economic_cost = total_fixed_cost + total_variable_cost + total_startup_cost\n\ntotal_nb_used = mdl.sum(Unit_Date.x_InUse)\ntotal_nb_starts = mdl.sum(Unit_Date.x_TurnOn)\n\n\n# store expression kpis to retrieve them later.\nmdl.add_kpi(total_fixed_cost   , \"Total Fixed Cost\")\nmdl.add_kpi(total_variable_cost, \"Total Variable Cost\")\nmdl.add_kpi(total_startup_cost , \"Total Startup Cost\")\nmdl.add_kpi(total_economic_cost, \"Total Economic Cost\")\nmdl.add_kpi(total_co2_cost     , \"Total CO2 Cost\")\nmdl.add_kpi(total_nb_used, \"Total #used\")\nmdl.add_kpi(total_nb_starts, \"Total #starts\")\n\n# minimize sum of all costs\nmdl.minimize(total_fixed_cost + total_variable_cost + total_startup_cost + total_co2_cost)"
        },
        {
            "cell_type": "markdown",
            "metadata": {},
            "source": "Solve"
        },
        {
            "cell_type": "code",
            "execution_count": 44,
            "metadata": {},
            "outputs": [],
            "source": "mdl.solve()\n\ndef extract_solution(df, extract_dvar_names=None, drop_column_names=None, drop:bool=True):\n    \"\"\"Generalized routine to extract a solution value. \n    Can remove the dvar column from the df to be able to have a clean df for export into scenario.\"\"\"\n    if extract_dvar_names is not None:\n        for xDVarName in extract_dvar_names:\n            if xDVarName in df.columns:\n                df[f'{xDVarName}_Solution'] = [dvar.solution_value for dvar in df[xDVarName]]\n                if drop:\n                    df = df.drop([xDVarName], axis = 1)\n    if drop and drop_column_names is not None:\n        for column in drop_column_names:\n            if column in df.columns:\n                df = df.drop([column], axis = 1)\n    return df\n"
        },
        {
            "cell_type": "code",
            "execution_count": 45,
            "metadata": {},
            "outputs": [
                {
                    "name": "stdout",
                    "output_type": "stream",
                    "text": "* model Unit_Commitment solved with objective = 14209787.418\n*  KPI: Total Fixed Cost    = 157934.630\n*  KPI: Total Variable Cost = 8831892.288\n*  KPI: Total Startup Cost  = 13439.000\n*  KPI: Total Economic Cost = 9003265.918\n*  KPI: Total CO2 Cost      = 5206521.500\n*  KPI: Total #used         = 1318.000\n*  KPI: Total #starts       = 12.000\n"
                }
            ],
            "source": "mdl.report()"
        },
        {
            "cell_type": "code",
            "execution_count": null,
            "metadata": {},
            "outputs": [],
            "source": ""
        },
        {
            "cell_type": "markdown",
            "metadata": {},
            "source": "# Create output tables"
        },
        {
            "cell_type": "code",
            "execution_count": 46,
            "metadata": {},
            "outputs": [],
            "source": "outputs = {}"
        },
        {
            "cell_type": "code",
            "execution_count": 47,
            "metadata": {},
            "outputs": [
                {
                    "data": {
                        "text/html": "<div>\n<style scoped>\n    .dataframe tbody tr th:only-of-type {\n        vertical-align: middle;\n    }\n\n    .dataframe tbody tr th {\n        vertical-align: top;\n    }\n\n    .dataframe thead th {\n        text-align: right;\n    }\n</style>\n<table border=\"1\" class=\"dataframe\">\n  <thead>\n    <tr style=\"text-align: right;\">\n      <th></th>\n      <th>index</th>\n      <th>Unit</th>\n      <th>Date_Sequence</th>\n      <th>x_TurnOn_Solution</th>\n      <th>x_TurnOff_Solution</th>\n      <th>x_Production_Solution</th>\n      <th>x_InUse_Solution</th>\n    </tr>\n  </thead>\n  <tbody>\n    <tr>\n      <th>0</th>\n      <td>0</td>\n      <td>coal1</td>\n      <td>day1</td>\n      <td>0.0</td>\n      <td>0.0</td>\n      <td>425.0</td>\n      <td>1.0</td>\n    </tr>\n    <tr>\n      <th>1</th>\n      <td>1</td>\n      <td>coal1</td>\n      <td>day2</td>\n      <td>0.0</td>\n      <td>0.0</td>\n      <td>425.0</td>\n      <td>1.0</td>\n    </tr>\n    <tr>\n      <th>2</th>\n      <td>2</td>\n      <td>coal1</td>\n      <td>day3</td>\n      <td>0.0</td>\n      <td>0.0</td>\n      <td>425.0</td>\n      <td>1.0</td>\n    </tr>\n    <tr>\n      <th>3</th>\n      <td>3</td>\n      <td>coal1</td>\n      <td>day4</td>\n      <td>0.0</td>\n      <td>0.0</td>\n      <td>425.0</td>\n      <td>1.0</td>\n    </tr>\n    <tr>\n      <th>4</th>\n      <td>4</td>\n      <td>coal1</td>\n      <td>day5</td>\n      <td>0.0</td>\n      <td>0.0</td>\n      <td>425.0</td>\n      <td>1.0</td>\n    </tr>\n  </tbody>\n</table>\n</div>",
                        "text/plain": "   index   Unit Date_Sequence  x_TurnOn_Solution  x_TurnOff_Solution  \\\n0      0  coal1          day1                0.0                 0.0   \n1      1  coal1          day2                0.0                 0.0   \n2      2  coal1          day3                0.0                 0.0   \n3      3  coal1          day4                0.0                 0.0   \n4      4  coal1          day5                0.0                 0.0   \n\n   x_Production_Solution  x_InUse_Solution  \n0                  425.0               1.0  \n1                  425.0               1.0  \n2                  425.0               1.0  \n3                  425.0               1.0  \n4                  425.0               1.0  "
                    },
                    "execution_count": 47,
                    "metadata": {},
                    "output_type": "execute_result"
                }
            ],
            "source": "plan = extract_solution(Unit_Date,extract_dvar_names= ['x_TurnOn','x_TurnOff','x_Production','x_InUse'] , drop=True)\nplan.round(2).head()"
        },
        {
            "cell_type": "code",
            "execution_count": 48,
            "metadata": {},
            "outputs": [
                {
                    "data": {
                        "text/html": "<div>\n<style scoped>\n    .dataframe tbody tr th:only-of-type {\n        vertical-align: middle;\n    }\n\n    .dataframe tbody tr th {\n        vertical-align: top;\n    }\n\n    .dataframe thead th {\n        text-align: right;\n    }\n</style>\n<table border=\"1\" class=\"dataframe\">\n  <thead>\n    <tr style=\"text-align: right;\">\n      <th></th>\n      <th>Unit</th>\n      <th>x_Production_Solution</th>\n      <th>Date</th>\n    </tr>\n  </thead>\n  <tbody>\n    <tr>\n      <th>0</th>\n      <td>coal1</td>\n      <td>425.0</td>\n      <td>2022-04-22</td>\n    </tr>\n    <tr>\n      <th>1</th>\n      <td>coal2</td>\n      <td>215.0</td>\n      <td>2022-04-22</td>\n    </tr>\n    <tr>\n      <th>2</th>\n      <td>diesel1</td>\n      <td>90.0</td>\n      <td>2022-04-22</td>\n    </tr>\n    <tr>\n      <th>3</th>\n      <td>diesel2</td>\n      <td>87.0</td>\n      <td>2022-04-22</td>\n    </tr>\n    <tr>\n      <th>4</th>\n      <td>diesel3</td>\n      <td>0.0</td>\n      <td>2022-04-22</td>\n    </tr>\n  </tbody>\n</table>\n</div>",
                        "text/plain": "      Unit  x_Production_Solution        Date\n0    coal1                  425.0  2022-04-22\n1    coal2                  215.0  2022-04-22\n2  diesel1                   90.0  2022-04-22\n3  diesel2                   87.0  2022-04-22\n4  diesel3                    0.0  2022-04-22"
                    },
                    "execution_count": 48,
                    "metadata": {},
                    "output_type": "execute_result"
                }
            ],
            "source": "Power_portions = plan[[\"Unit\",\"Date_Sequence\",\"x_Production_Solution\"]].groupby([\"Date_Sequence\",\"Unit\"]).sum().round().reset_index(drop = False)\nPower_portions = pd.merge(Power_portions, Demand[[\"Date\",\"Date_Sequence\"]], on = \"Date_Sequence\")\ndel Power_portions[\"Date_Sequence\"]\nPower_portions.head()"
        },
        {
            "cell_type": "code",
            "execution_count": 49,
            "metadata": {},
            "outputs": [],
            "source": "plant_percentage = plan[[\"Unit\",\"Date_Sequence\",\"x_Production_Solution\"]].groupby([\"Unit\"]).sum().round().reset_index(drop = False)\n\nplant_percentage[\"percentage\"] = plant_percentage[\"x_Production_Solution\"]/plant_percentage[\"x_Production_Solution\"].sum()"
        },
        {
            "cell_type": "code",
            "execution_count": 50,
            "metadata": {},
            "outputs": [],
            "source": "#plan[[\"Date_Sequence\",\"x_InUse_Solution\"]].groupby(\"Date_Sequence\").agg(sum).plot()"
        },
        {
            "cell_type": "code",
            "execution_count": 51,
            "metadata": {},
            "outputs": [],
            "source": "outputs['plan'] = plan\noutputs['Power_portions'] = Power_portions\noutputs['plant_percentage'] = plant_percentage"
        },
        {
            "cell_type": "code",
            "execution_count": 52,
            "metadata": {},
            "outputs": [],
            "source": "sm.outputs = outputs\nsm.update_solve_output_into_scenario(mdl, outputs)"
        },
        {
            "cell_type": "code",
            "execution_count": 58,
            "metadata": {},
            "outputs": [
                {
                    "name": "stderr",
                    "output_type": "stream",
                    "text": "Failed to lookup project.\nStatus 401 for GET /v2/projects/a3018ff3-48f5-45b0-a97a-a331ec53d068\n{\"code\":401,\"error\":\"Unauthorized\",\"reason\":\"Bearer token is either missing or invalid: undefined.\",\"message\":\"Access denied\"}\n"
                },
                {
                    "name": "stdout",
                    "output_type": "stream",
                    "text": "Writing /home/wsuser/work/Units.csv\n"
                },
                {
                    "ename": "RuntimeError",
                    "evalue": "Failed to lookup project, status 401.",
                    "output_type": "error",
                    "traceback": [
                        "\u001b[0;31m---------------------------------------------------------------------------\u001b[0m",
                        "\u001b[0;31mRuntimeError\u001b[0m                              Traceback (most recent call last)",
                        "\u001b[0;32m/tmp/wsuser/ipykernel_1929/535064032.py\u001b[0m in \u001b[0;36m<module>\u001b[0;34m\u001b[0m\n\u001b[0;32m----> 1\u001b[0;31m \u001b[0msm\u001b[0m\u001b[0;34m.\u001b[0m\u001b[0mwrite_data_to_csv\u001b[0m\u001b[0;34m(\u001b[0m\u001b[0;34m)\u001b[0m\u001b[0;34m\u001b[0m\u001b[0;34m\u001b[0m\u001b[0m\n\u001b[0m",
                        "\u001b[0;32m/opt/conda/envs/Python-3.9/lib/python3.9/site-packages/dse_do_utils/scenariomanager.py\u001b[0m in \u001b[0;36mwrite_data_to_csv\u001b[0;34m(self)\u001b[0m\n\u001b[1;32m    900\u001b[0m         \u001b[0;31m# csv_directory = os.path.join(root_dir, 'datasets')\u001b[0m\u001b[0;34m\u001b[0m\u001b[0;34m\u001b[0m\u001b[0m\n\u001b[1;32m    901\u001b[0m         \u001b[0mcsv_directory\u001b[0m \u001b[0;34m=\u001b[0m \u001b[0mself\u001b[0m\u001b[0;34m.\u001b[0m\u001b[0mget_data_directory\u001b[0m\u001b[0;34m(\u001b[0m\u001b[0;34m)\u001b[0m\u001b[0;34m\u001b[0m\u001b[0;34m\u001b[0m\u001b[0m\n\u001b[0;32m--> 902\u001b[0;31m         \u001b[0mScenarioManager\u001b[0m\u001b[0;34m.\u001b[0m\u001b[0mwrite_data_to_csv_s\u001b[0m\u001b[0;34m(\u001b[0m\u001b[0mcsv_directory\u001b[0m\u001b[0;34m,\u001b[0m \u001b[0minputs\u001b[0m\u001b[0;34m=\u001b[0m\u001b[0mself\u001b[0m\u001b[0;34m.\u001b[0m\u001b[0minputs\u001b[0m\u001b[0;34m,\u001b[0m \u001b[0moutputs\u001b[0m\u001b[0;34m=\u001b[0m\u001b[0mself\u001b[0m\u001b[0;34m.\u001b[0m\u001b[0moutputs\u001b[0m\u001b[0;34m)\u001b[0m\u001b[0;34m\u001b[0m\u001b[0;34m\u001b[0m\u001b[0m\n\u001b[0m\u001b[1;32m    903\u001b[0m \u001b[0;34m\u001b[0m\u001b[0m\n\u001b[1;32m    904\u001b[0m     \u001b[0;34m@\u001b[0m\u001b[0mstaticmethod\u001b[0m\u001b[0;34m\u001b[0m\u001b[0;34m\u001b[0m\u001b[0m\n",
                        "\u001b[0;32m/opt/conda/envs/Python-3.9/lib/python3.9/site-packages/dse_do_utils/scenariomanager.py\u001b[0m in \u001b[0;36mwrite_data_to_csv_s\u001b[0;34m(csv_directory, inputs, outputs)\u001b[0m\n\u001b[1;32m    921\u001b[0m                 \u001b[0mprint\u001b[0m\u001b[0;34m(\u001b[0m\u001b[0;34m\"Writing {}\"\u001b[0m\u001b[0;34m.\u001b[0m\u001b[0mformat\u001b[0m\u001b[0;34m(\u001b[0m\u001b[0mfile_path\u001b[0m\u001b[0;34m)\u001b[0m\u001b[0;34m)\u001b[0m\u001b[0;34m\u001b[0m\u001b[0;34m\u001b[0m\u001b[0m\n\u001b[1;32m    922\u001b[0m                 \u001b[0mdf\u001b[0m\u001b[0;34m.\u001b[0m\u001b[0mto_csv\u001b[0m\u001b[0;34m(\u001b[0m\u001b[0mfile_path\u001b[0m\u001b[0;34m,\u001b[0m \u001b[0mindex\u001b[0m\u001b[0;34m=\u001b[0m\u001b[0;32mFalse\u001b[0m\u001b[0;34m)\u001b[0m\u001b[0;34m\u001b[0m\u001b[0;34m\u001b[0m\u001b[0m\n\u001b[0;32m--> 923\u001b[0;31m                 \u001b[0mScenarioManager\u001b[0m\u001b[0;34m.\u001b[0m\u001b[0madd_file_as_data_asset_s\u001b[0m\u001b[0;34m(\u001b[0m\u001b[0mfile_path\u001b[0m\u001b[0;34m,\u001b[0m \u001b[0mtable_name\u001b[0m \u001b[0;34m+\u001b[0m \u001b[0;34m\".csv\"\u001b[0m\u001b[0;34m,\u001b[0m \u001b[0mplatform\u001b[0m\u001b[0;34m=\u001b[0m\u001b[0mplatform\u001b[0m\u001b[0;34m)\u001b[0m\u001b[0;34m\u001b[0m\u001b[0;34m\u001b[0m\u001b[0m\n\u001b[0m\u001b[1;32m    924\u001b[0m                 \u001b[0;31m# if platform == Platform.CPD40:\u001b[0m\u001b[0;34m\u001b[0m\u001b[0;34m\u001b[0m\u001b[0m\n\u001b[1;32m    925\u001b[0m                 \u001b[0;31m#     ScenarioManager.add_data_file_using_ws_lib_s(file_path)\u001b[0m\u001b[0;34m\u001b[0m\u001b[0;34m\u001b[0m\u001b[0m\n",
                        "\u001b[0;32m/opt/conda/envs/Python-3.9/lib/python3.9/site-packages/dse_do_utils/scenariomanager.py\u001b[0m in \u001b[0;36madd_file_as_data_asset_s\u001b[0;34m(file_path, asset_name, platform)\u001b[0m\n\u001b[1;32m    657\u001b[0m \u001b[0;34m\u001b[0m\u001b[0m\n\u001b[1;32m    658\u001b[0m         \u001b[0;32mif\u001b[0m \u001b[0mplatform\u001b[0m \u001b[0;32min\u001b[0m \u001b[0;34m[\u001b[0m\u001b[0mPlatform\u001b[0m\u001b[0;34m.\u001b[0m\u001b[0mCPD40\u001b[0m\u001b[0;34m,\u001b[0m \u001b[0mPlatform\u001b[0m\u001b[0;34m.\u001b[0m\u001b[0mCPDaaS\u001b[0m\u001b[0;34m]\u001b[0m\u001b[0;34m:\u001b[0m\u001b[0;34m\u001b[0m\u001b[0;34m\u001b[0m\u001b[0m\n\u001b[0;32m--> 659\u001b[0;31m             \u001b[0mScenarioManager\u001b[0m\u001b[0;34m.\u001b[0m\u001b[0madd_data_file_using_ws_lib_s\u001b[0m\u001b[0;34m(\u001b[0m\u001b[0mfile_path\u001b[0m\u001b[0;34m)\u001b[0m\u001b[0;34m\u001b[0m\u001b[0;34m\u001b[0m\u001b[0m\n\u001b[0m\u001b[1;32m    660\u001b[0m         \u001b[0;32melif\u001b[0m \u001b[0mplatform\u001b[0m \u001b[0;34m==\u001b[0m \u001b[0mPlatform\u001b[0m\u001b[0;34m.\u001b[0m\u001b[0mCPD25\u001b[0m\u001b[0;34m:\u001b[0m\u001b[0;34m\u001b[0m\u001b[0;34m\u001b[0m\u001b[0m\n\u001b[1;32m    661\u001b[0m             \u001b[0mScenarioManager\u001b[0m\u001b[0;34m.\u001b[0m\u001b[0madd_data_file_to_project_s\u001b[0m\u001b[0;34m(\u001b[0m\u001b[0mfile_path\u001b[0m\u001b[0;34m,\u001b[0m \u001b[0masset_name\u001b[0m\u001b[0;34m)\u001b[0m\u001b[0;34m\u001b[0m\u001b[0;34m\u001b[0m\u001b[0m\n",
                        "\u001b[0;32m/opt/conda/envs/Python-3.9/lib/python3.9/site-packages/dse_do_utils/scenariomanager.py\u001b[0m in \u001b[0;36madd_data_file_using_ws_lib_s\u001b[0;34m(file_path, file_name)\u001b[0m\n\u001b[1;32m    252\u001b[0m         \u001b[0;32mwith\u001b[0m \u001b[0mopen\u001b[0m\u001b[0;34m(\u001b[0m\u001b[0mfile_path\u001b[0m\u001b[0;34m,\u001b[0m \u001b[0;34m'rb'\u001b[0m\u001b[0;34m)\u001b[0m \u001b[0;32mas\u001b[0m \u001b[0mf\u001b[0m\u001b[0;34m:\u001b[0m\u001b[0;34m\u001b[0m\u001b[0;34m\u001b[0m\u001b[0m\n\u001b[1;32m    253\u001b[0m             \u001b[0;32mfrom\u001b[0m \u001b[0mibm_watson_studio_lib\u001b[0m \u001b[0;32mimport\u001b[0m \u001b[0maccess_project_or_space\u001b[0m\u001b[0;34m\u001b[0m\u001b[0;34m\u001b[0m\u001b[0m\n\u001b[0;32m--> 254\u001b[0;31m             \u001b[0mwslib\u001b[0m \u001b[0;34m=\u001b[0m \u001b[0maccess_project_or_space\u001b[0m\u001b[0;34m(\u001b[0m\u001b[0;34m)\u001b[0m\u001b[0;34m\u001b[0m\u001b[0;34m\u001b[0m\u001b[0m\n\u001b[0m\u001b[1;32m    255\u001b[0m             \u001b[0mwslib\u001b[0m\u001b[0;34m.\u001b[0m\u001b[0msave_data\u001b[0m\u001b[0;34m(\u001b[0m\u001b[0masset_name_or_item\u001b[0m\u001b[0;34m=\u001b[0m\u001b[0mfile_name\u001b[0m\u001b[0;34m,\u001b[0m \u001b[0mdata\u001b[0m\u001b[0;34m=\u001b[0m\u001b[0mf\u001b[0m\u001b[0;34m.\u001b[0m\u001b[0mread\u001b[0m\u001b[0;34m(\u001b[0m\u001b[0;34m)\u001b[0m\u001b[0;34m,\u001b[0m \u001b[0moverwrite\u001b[0m\u001b[0;34m=\u001b[0m\u001b[0;32mTrue\u001b[0m\u001b[0;34m)\u001b[0m\u001b[0;34m\u001b[0m\u001b[0;34m\u001b[0m\u001b[0m\n\u001b[1;32m    256\u001b[0m \u001b[0;34m\u001b[0m\u001b[0m\n",
                        "\u001b[0;32m/opt/conda/envs/Python-3.9/lib/python3.9/site-packages/ibm_watson_studio_lib/__init__.py\u001b[0m in \u001b[0;36maccess_project_or_space\u001b[0;34m(params)\u001b[0m\n\u001b[1;32m     31\u001b[0m \u001b[0;34m\u001b[0m\u001b[0m\n\u001b[1;32m     32\u001b[0m     \u001b[0;32mfrom\u001b[0m \u001b[0;34m.\u001b[0m\u001b[0mimpl\u001b[0m\u001b[0;34m.\u001b[0m\u001b[0magent\u001b[0m \u001b[0;32mimport\u001b[0m \u001b[0msetup_agent\u001b[0m\u001b[0;34m\u001b[0m\u001b[0;34m\u001b[0m\u001b[0m\n\u001b[0;32m---> 33\u001b[0;31m     \u001b[0;32mreturn\u001b[0m \u001b[0msetup_agent\u001b[0m\u001b[0;34m(\u001b[0m\u001b[0mparams\u001b[0m\u001b[0;34m=\u001b[0m\u001b[0mparams\u001b[0m\u001b[0;34m)\u001b[0m\u001b[0;34m\u001b[0m\u001b[0;34m\u001b[0m\u001b[0m\n\u001b[0m",
                        "\u001b[0;32m/opt/conda/envs/Python-3.9/lib/python3.9/site-packages/ibm_watson_studio_lib/impl/agent.py\u001b[0m in \u001b[0;36msetup_agent\u001b[0;34m(params)\u001b[0m\n\u001b[1;32m     50\u001b[0m                       \"\\n!!! Requests made by ibm-watson-studio-lib are NOT SECURE!\")\n\u001b[1;32m     51\u001b[0m \u001b[0;34m\u001b[0m\u001b[0m\n\u001b[0;32m---> 52\u001b[0;31m     \u001b[0;32mreturn\u001b[0m \u001b[0mAgent\u001b[0m\u001b[0;34m(\u001b[0m\u001b[0mscope\u001b[0m\u001b[0;34m,\u001b[0m \u001b[0mapi_factory\u001b[0m\u001b[0;34m)\u001b[0m\u001b[0;34m\u001b[0m\u001b[0;34m\u001b[0m\u001b[0m\n\u001b[0m\u001b[1;32m     53\u001b[0m \u001b[0;34m\u001b[0m\u001b[0m\n\u001b[1;32m     54\u001b[0m \u001b[0;34m\u001b[0m\u001b[0m\n",
                        "\u001b[0;32m/opt/conda/envs/Python-3.9/lib/python3.9/site-packages/ibm_watson_studio_lib/impl/agent.py\u001b[0m in \u001b[0;36m__init__\u001b[0;34m(self, scope, api_factory)\u001b[0m\n\u001b[1;32m     94\u001b[0m         \u001b[0;31m# git support is potentially enabled for subsequent CAMS calls.\u001b[0m\u001b[0;34m\u001b[0m\u001b[0;34m\u001b[0m\u001b[0m\n\u001b[1;32m     95\u001b[0m         \u001b[0mself\u001b[0m\u001b[0;34m.\u001b[0m\u001b[0m_local_git_storage\u001b[0m \u001b[0;34m=\u001b[0m \u001b[0;32mFalse\u001b[0m\u001b[0;34m\u001b[0m\u001b[0;34m\u001b[0m\u001b[0m\n\u001b[0;32m---> 96\u001b[0;31m         \u001b[0mscope_info\u001b[0m \u001b[0;34m=\u001b[0m \u001b[0mself\u001b[0m\u001b[0;34m.\u001b[0m\u001b[0m_scopes\u001b[0m\u001b[0;34m.\u001b[0m\u001b[0mget_scope_info\u001b[0m\u001b[0;34m(\u001b[0m\u001b[0mscope\u001b[0m\u001b[0;34m,\u001b[0m \u001b[0mraw\u001b[0m\u001b[0;34m=\u001b[0m\u001b[0;32mTrue\u001b[0m\u001b[0;34m)\u001b[0m\u001b[0;34m\u001b[0m\u001b[0;34m\u001b[0m\u001b[0m\n\u001b[0m\u001b[1;32m     97\u001b[0m         \u001b[0;32mif\u001b[0m \u001b[0;34m'storage'\u001b[0m \u001b[0;32min\u001b[0m \u001b[0mscope_info\u001b[0m\u001b[0;34m[\u001b[0m\u001b[0;34m'entity'\u001b[0m\u001b[0;34m]\u001b[0m\u001b[0;34m:\u001b[0m\u001b[0;34m\u001b[0m\u001b[0;34m\u001b[0m\u001b[0m\n\u001b[1;32m     98\u001b[0m             \u001b[0mstotype\u001b[0m \u001b[0;34m=\u001b[0m \u001b[0mscope_info\u001b[0m\u001b[0;34m[\u001b[0m\u001b[0;34m\"entity\"\u001b[0m\u001b[0;34m]\u001b[0m\u001b[0;34m[\u001b[0m\u001b[0;34m\"storage\"\u001b[0m\u001b[0;34m]\u001b[0m\u001b[0;34m.\u001b[0m\u001b[0mget\u001b[0m\u001b[0;34m(\u001b[0m\u001b[0;34m\"type\"\u001b[0m\u001b[0;34m)\u001b[0m\u001b[0;34m\u001b[0m\u001b[0;34m\u001b[0m\u001b[0m\n",
                        "\u001b[0;32m/opt/conda/envs/Python-3.9/lib/python3.9/site-packages/ibm_watson_studio_lib/impl/scope_browser.py\u001b[0m in \u001b[0;36mget_scope_info\u001b[0;34m(self, scope_or_item, raw)\u001b[0m\n\u001b[1;32m    145\u001b[0m         \u001b[0mtype\u001b[0m\u001b[0;34m,\u001b[0m \u001b[0mid\u001b[0m \u001b[0;34m=\u001b[0m \u001b[0mself\u001b[0m\u001b[0;34m.\u001b[0m\u001b[0m_extract_type_id\u001b[0m\u001b[0;34m(\u001b[0m\u001b[0mscope_or_item\u001b[0m\u001b[0;34m)\u001b[0m\u001b[0;34m\u001b[0m\u001b[0;34m\u001b[0m\u001b[0m\n\u001b[1;32m    146\u001b[0m         \u001b[0;32mif\u001b[0m \u001b[0mtype\u001b[0m \u001b[0;34m==\u001b[0m \u001b[0;34m'project'\u001b[0m\u001b[0;34m:\u001b[0m\u001b[0;34m\u001b[0m\u001b[0;34m\u001b[0m\u001b[0m\n\u001b[0;32m--> 147\u001b[0;31m             \u001b[0;32mreturn\u001b[0m \u001b[0mself\u001b[0m\u001b[0;34m.\u001b[0m\u001b[0mlookup_project\u001b[0m\u001b[0;34m(\u001b[0m\u001b[0mid\u001b[0m\u001b[0;34m,\u001b[0m \u001b[0mraw\u001b[0m\u001b[0;34m=\u001b[0m\u001b[0mraw\u001b[0m\u001b[0;34m)\u001b[0m\u001b[0;34m\u001b[0m\u001b[0;34m\u001b[0m\u001b[0m\n\u001b[0m\u001b[1;32m    148\u001b[0m         \u001b[0;32mif\u001b[0m \u001b[0mtype\u001b[0m \u001b[0;34m==\u001b[0m \u001b[0;34m'catalog'\u001b[0m\u001b[0;34m:\u001b[0m\u001b[0;34m\u001b[0m\u001b[0;34m\u001b[0m\u001b[0m\n\u001b[1;32m    149\u001b[0m             \u001b[0;32mreturn\u001b[0m \u001b[0mself\u001b[0m\u001b[0;34m.\u001b[0m\u001b[0mlookup_catalog\u001b[0m\u001b[0;34m(\u001b[0m\u001b[0mid\u001b[0m\u001b[0;34m,\u001b[0m \u001b[0mraw\u001b[0m\u001b[0;34m=\u001b[0m\u001b[0mraw\u001b[0m\u001b[0;34m)\u001b[0m\u001b[0;34m\u001b[0m\u001b[0;34m\u001b[0m\u001b[0m\n",
                        "\u001b[0;32m/opt/conda/envs/Python-3.9/lib/python3.9/site-packages/ibm_watson_studio_lib/impl/scope_browser.py\u001b[0m in \u001b[0;36mlookup_project\u001b[0;34m(self, project_id, _sections, raw)\u001b[0m\n\u001b[1;32m     48\u001b[0m             \u001b[0m_sections\u001b[0m \u001b[0;34m=\u001b[0m \u001b[0;34m[\u001b[0m\u001b[0m_sections\u001b[0m\u001b[0;34m]\u001b[0m\u001b[0;34m\u001b[0m\u001b[0;34m\u001b[0m\u001b[0m\n\u001b[1;32m     49\u001b[0m \u001b[0;34m\u001b[0m\u001b[0m\n\u001b[0;32m---> 50\u001b[0;31m         \u001b[0mproject\u001b[0m \u001b[0;34m=\u001b[0m \u001b[0mself\u001b[0m\u001b[0;34m.\u001b[0m\u001b[0m_cams_api\u001b[0m\u001b[0;34m.\u001b[0m\u001b[0mlookup_project\u001b[0m\u001b[0;34m(\u001b[0m\u001b[0mproject_id\u001b[0m\u001b[0;34m,\u001b[0m \u001b[0msections\u001b[0m\u001b[0;34m=\u001b[0m\u001b[0m_sections\u001b[0m\u001b[0;34m)\u001b[0m\u001b[0;34m\u001b[0m\u001b[0;34m\u001b[0m\u001b[0m\n\u001b[0m\u001b[1;32m     51\u001b[0m         \u001b[0mself\u001b[0m\u001b[0;34m.\u001b[0m\u001b[0m_filter_project\u001b[0m\u001b[0;34m(\u001b[0m\u001b[0mproject\u001b[0m\u001b[0;34m)\u001b[0m \u001b[0;31m# even when raw\u001b[0m\u001b[0;34m\u001b[0m\u001b[0;34m\u001b[0m\u001b[0m\n\u001b[1;32m     52\u001b[0m \u001b[0;34m\u001b[0m\u001b[0m\n",
                        "\u001b[0;32m/opt/conda/envs/Python-3.9/lib/python3.9/site-packages/ibm_watson_studio_lib/impl/cams_api.py\u001b[0m in \u001b[0;36mlookup_project\u001b[0;34m(self, project_id, sections)\u001b[0m\n\u001b[1;32m    299\u001b[0m             \u001b[0;32mreturn\u001b[0m \u001b[0;34m{\u001b[0m\u001b[0;34m}\u001b[0m\u001b[0;34m\u001b[0m\u001b[0;34m\u001b[0m\u001b[0m\n\u001b[1;32m    300\u001b[0m         \u001b[0;32mif\u001b[0m \u001b[0mresponse\u001b[0m\u001b[0;34m.\u001b[0m\u001b[0mstatus_code\u001b[0m \u001b[0;34m!=\u001b[0m \u001b[0;36m200\u001b[0m\u001b[0;34m:\u001b[0m\u001b[0;34m\u001b[0m\u001b[0;34m\u001b[0m\u001b[0m\n\u001b[0;32m--> 301\u001b[0;31m             \u001b[0mfailed_api_call\u001b[0m\u001b[0;34m(\u001b[0m\u001b[0;34m'lookup project'\u001b[0m\u001b[0;34m,\u001b[0m \u001b[0;34m'GET'\u001b[0m\u001b[0;34m,\u001b[0m \u001b[0murl\u001b[0m\u001b[0;34m,\u001b[0m \u001b[0mresponse\u001b[0m\u001b[0;34m)\u001b[0m\u001b[0;34m\u001b[0m\u001b[0;34m\u001b[0m\u001b[0m\n\u001b[0m\u001b[1;32m    302\u001b[0m \u001b[0;34m\u001b[0m\u001b[0m\n\u001b[1;32m    303\u001b[0m         \u001b[0mproject\u001b[0m \u001b[0;34m=\u001b[0m \u001b[0mresponse\u001b[0m\u001b[0;34m.\u001b[0m\u001b[0mjson\u001b[0m\u001b[0;34m(\u001b[0m\u001b[0;34m)\u001b[0m\u001b[0;34m\u001b[0m\u001b[0;34m\u001b[0m\u001b[0m\n",
                        "\u001b[0;32m/opt/conda/envs/Python-3.9/lib/python3.9/site-packages/ibm_watson_studio_lib/impl/api_caller.py\u001b[0m in \u001b[0;36mfailed_api_call\u001b[0;34m(what, method, url, response)\u001b[0m\n\u001b[1;32m     20\u001b[0m     logger.error(\"Failed to %s.\\nStatus %s for %s %s\\n%s\", what,\n\u001b[1;32m     21\u001b[0m                  response.status_code, method, url, response.text)\n\u001b[0;32m---> 22\u001b[0;31m     raise RuntimeError(\"Failed to {}, status {}.\"\n\u001b[0m\u001b[1;32m     23\u001b[0m                        .format(what, response.status_code))\n\u001b[1;32m     24\u001b[0m \u001b[0;34m\u001b[0m\u001b[0m\n",
                        "\u001b[0;31mRuntimeError\u001b[0m: Failed to lookup project, status 401."
                    ]
                }
            ],
            "source": "sm.write_data_to_csv()"
        },
        {
            "cell_type": "code",
            "execution_count": 57,
            "metadata": {},
            "outputs": [],
            "source": "?sm.write_data_to_csv"
        },
        {
            "cell_type": "code",
            "execution_count": null,
            "metadata": {},
            "outputs": [],
            "source": ""
        }
    ],
    "metadata": {
        "kernelspec": {
            "display_name": "Python 3.9",
            "language": "python",
            "name": "python3"
        },
        "language_info": {
            "codemirror_mode": {
                "name": "ipython",
                "version": 3
            },
            "file_extension": ".py",
            "mimetype": "text/x-python",
            "name": "python",
            "nbconvert_exporter": "python",
            "pygments_lexer": "ipython3",
            "version": "3.9.7"
        }
    },
    "nbformat": 4,
    "nbformat_minor": 1
}