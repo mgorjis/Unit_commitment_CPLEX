{
    "cells": [
        {
            "cell_type": "code",
            "execution_count": 15,
            "metadata": {},
            "outputs": [],
            "source": "# The code was removed by Watson Studio for sharing."
        },
        {
            "cell_type": "code",
            "execution_count": 16,
            "metadata": {},
            "outputs": [
                {
                    "data": {
                        "text/html": "<style>.container { width:100%; }</style>",
                        "text/plain": "<IPython.core.display.HTML object>"
                    },
                    "execution_count": 16,
                    "metadata": {},
                    "output_type": "execute_result"
                }
            ],
            "source": "import pandas as pd\nfrom datetime import datetime\nfrom IPython.core.display import HTML\nHTML(\"<style>.container { width:100%; }</style>\")"
        },
        {
            "cell_type": "markdown",
            "metadata": {},
            "source": "# Unit Informations"
        },
        {
            "cell_type": "code",
            "execution_count": 17,
            "metadata": {},
            "outputs": [
                {
                    "data": {
                        "text/html": "<div>\n<style scoped>\n    .dataframe tbody tr th:only-of-type {\n        vertical-align: middle;\n    }\n\n    .dataframe tbody tr th {\n        vertical-align: top;\n    }\n\n    .dataframe thead th {\n        text-align: right;\n    }\n</style>\n<table border=\"1\" class=\"dataframe\">\n  <thead>\n    <tr style=\"text-align: right;\">\n      <th></th>\n      <th>co2_cost</th>\n      <th>energy</th>\n    </tr>\n  </thead>\n  <tbody>\n    <tr>\n      <th>0</th>\n      <td>30</td>\n      <td>coal</td>\n    </tr>\n    <tr>\n      <th>1</th>\n      <td>5</td>\n      <td>gas</td>\n    </tr>\n    <tr>\n      <th>2</th>\n      <td>15</td>\n      <td>diesel</td>\n    </tr>\n    <tr>\n      <th>3</th>\n      <td>0</td>\n      <td>wind</td>\n    </tr>\n  </tbody>\n</table>\n</div>",
                        "text/plain": "   co2_cost  energy\n0        30    coal\n1         5     gas\n2        15  diesel\n3         0    wind"
                    },
                    "execution_count": 17,
                    "metadata": {},
                    "output_type": "execute_result"
                }
            ],
            "source": "energies = [\"coal\", \"gas\", \"diesel\", \"wind\"]\nco2_cost = pd.DataFrame({\"co2_cost\": [30, 5, 15, 0]})\nco2_cost[\"energy\"] = energies\n\nco2_cost"
        },
        {
            "cell_type": "code",
            "execution_count": 18,
            "metadata": {},
            "outputs": [
                {
                    "data": {
                        "text/html": "<div>\n<style scoped>\n    .dataframe tbody tr th:only-of-type {\n        vertical-align: middle;\n    }\n\n    .dataframe tbody tr th {\n        vertical-align: top;\n    }\n\n    .dataframe thead th {\n        text-align: right;\n    }\n</style>\n<table border=\"1\" class=\"dataframe\">\n  <thead>\n    <tr style=\"text-align: right;\">\n      <th></th>\n      <th>energy</th>\n      <th>initial</th>\n      <th>min_gen</th>\n      <th>max_gen</th>\n      <th>operating_max_gen</th>\n      <th>min_uptime</th>\n      <th>min_downtime</th>\n      <th>ramp_up</th>\n      <th>ramp_down</th>\n      <th>start_cost</th>\n      <th>fixed_cost</th>\n      <th>variable_cost</th>\n      <th>Unit</th>\n    </tr>\n  </thead>\n  <tbody>\n    <tr>\n      <th>0</th>\n      <td>coal</td>\n      <td>400</td>\n      <td>100.00</td>\n      <td>425</td>\n      <td>400</td>\n      <td>15</td>\n      <td>9</td>\n      <td>212.0</td>\n      <td>183.0</td>\n      <td>5000</td>\n      <td>208.610</td>\n      <td>22.536</td>\n      <td>coal1</td>\n    </tr>\n    <tr>\n      <th>1</th>\n      <td>coal</td>\n      <td>350</td>\n      <td>140.00</td>\n      <td>365</td>\n      <td>350</td>\n      <td>15</td>\n      <td>8</td>\n      <td>150.0</td>\n      <td>198.0</td>\n      <td>4550</td>\n      <td>117.370</td>\n      <td>31.985</td>\n      <td>coal2</td>\n    </tr>\n    <tr>\n      <th>2</th>\n      <td>gas</td>\n      <td>205</td>\n      <td>78.00</td>\n      <td>220</td>\n      <td>205</td>\n      <td>6</td>\n      <td>7</td>\n      <td>101.2</td>\n      <td>95.6</td>\n      <td>1320</td>\n      <td>174.120</td>\n      <td>70.500</td>\n      <td>gas1</td>\n    </tr>\n    <tr>\n      <th>3</th>\n      <td>gas</td>\n      <td>52</td>\n      <td>52.00</td>\n      <td>210</td>\n      <td>197</td>\n      <td>5</td>\n      <td>4</td>\n      <td>94.8</td>\n      <td>101.7</td>\n      <td>1291</td>\n      <td>172.750</td>\n      <td>69.000</td>\n      <td>gas2</td>\n    </tr>\n    <tr>\n      <th>4</th>\n      <td>gas</td>\n      <td>155</td>\n      <td>54.25</td>\n      <td>165</td>\n      <td>155</td>\n      <td>5</td>\n      <td>3</td>\n      <td>58.0</td>\n      <td>77.5</td>\n      <td>1280</td>\n      <td>95.353</td>\n      <td>32.146</td>\n      <td>gas3</td>\n    </tr>\n    <tr>\n      <th>5</th>\n      <td>gas</td>\n      <td>150</td>\n      <td>39.00</td>\n      <td>158</td>\n      <td>150</td>\n      <td>4</td>\n      <td>2</td>\n      <td>50.0</td>\n      <td>60.0</td>\n      <td>1105</td>\n      <td>144.520</td>\n      <td>54.840</td>\n      <td>gas4</td>\n    </tr>\n    <tr>\n      <th>6</th>\n      <td>diesel</td>\n      <td>78</td>\n      <td>17.40</td>\n      <td>90</td>\n      <td>78</td>\n      <td>3</td>\n      <td>2</td>\n      <td>40.0</td>\n      <td>24.0</td>\n      <td>560</td>\n      <td>54.417</td>\n      <td>40.222</td>\n      <td>diesel1</td>\n    </tr>\n    <tr>\n      <th>7</th>\n      <td>diesel</td>\n      <td>76</td>\n      <td>15.20</td>\n      <td>87</td>\n      <td>76</td>\n      <td>3</td>\n      <td>2</td>\n      <td>60.0</td>\n      <td>45.0</td>\n      <td>554</td>\n      <td>54.551</td>\n      <td>40.522</td>\n      <td>diesel2</td>\n    </tr>\n    <tr>\n      <th>8</th>\n      <td>diesel</td>\n      <td>0</td>\n      <td>4.00</td>\n      <td>20</td>\n      <td>20</td>\n      <td>1</td>\n      <td>1</td>\n      <td>20.0</td>\n      <td>20.0</td>\n      <td>300</td>\n      <td>79.638</td>\n      <td>116.330</td>\n      <td>diesel3</td>\n    </tr>\n    <tr>\n      <th>9</th>\n      <td>diesel</td>\n      <td>0</td>\n      <td>2.40</td>\n      <td>12</td>\n      <td>12</td>\n      <td>1</td>\n      <td>1</td>\n      <td>12.0</td>\n      <td>12.0</td>\n      <td>250</td>\n      <td>16.259</td>\n      <td>76.642</td>\n      <td>diesel4</td>\n    </tr>\n  </tbody>\n</table>\n</div>",
                        "text/plain": "   energy  initial  min_gen  max_gen  operating_max_gen  min_uptime  \\\n0    coal      400   100.00      425                400          15   \n1    coal      350   140.00      365                350          15   \n2     gas      205    78.00      220                205           6   \n3     gas       52    52.00      210                197           5   \n4     gas      155    54.25      165                155           5   \n5     gas      150    39.00      158                150           4   \n6  diesel       78    17.40       90                 78           3   \n7  diesel       76    15.20       87                 76           3   \n8  diesel        0     4.00       20                 20           1   \n9  diesel        0     2.40       12                 12           1   \n\n   min_downtime  ramp_up  ramp_down  start_cost  fixed_cost  variable_cost  \\\n0             9    212.0      183.0        5000     208.610         22.536   \n1             8    150.0      198.0        4550     117.370         31.985   \n2             7    101.2       95.6        1320     174.120         70.500   \n3             4     94.8      101.7        1291     172.750         69.000   \n4             3     58.0       77.5        1280      95.353         32.146   \n5             2     50.0       60.0        1105     144.520         54.840   \n6             2     40.0       24.0         560      54.417         40.222   \n7             2     60.0       45.0         554      54.551         40.522   \n8             1     20.0       20.0         300      79.638        116.330   \n9             1     12.0       12.0         250      16.259         76.642   \n\n      Unit  \n0    coal1  \n1    coal2  \n2     gas1  \n3     gas2  \n4     gas3  \n5     gas4  \n6  diesel1  \n7  diesel2  \n8  diesel3  \n9  diesel4  "
                    },
                    "execution_count": 18,
                    "metadata": {},
                    "output_type": "execute_result"
                }
            ],
            "source": "all_units = [\"coal1\", \"coal2\", \n             \"gas1\", \"gas2\", \"gas3\", \"gas4\", \n             \"diesel1\", \"diesel2\", \"diesel3\", \"diesel4\"]\n\n\nucp_raw_unit_data = {\n        \"energy\": [\"coal\", \"coal\", \"gas\", \"gas\", \"gas\", \"gas\", \"diesel\", \"diesel\", \"diesel\", \"diesel\"],\n        \"initial\" : [400, 350, 205, 52, 155, 150, 78, 76, 0, 0],\n        \"min_gen\": [100, 140, 78, 52, 54.25, 39, 17.4, 15.2, 4, 2.4],\n        \"max_gen\": [425, 365, 220, 210, 165, 158, 90, 87, 20, 12],\n        \"operating_max_gen\": [400, 350, 205, 197, 155, 150, 78, 76, 20, 12],\n        \"min_uptime\": [15, 15, 6, 5, 5, 4, 3, 3, 1, 1],\n        \"min_downtime\":[9, 8, 7, 4, 3, 2, 2, 2, 1, 1],\n        \"ramp_up\":   [212, 150, 101.2, 94.8, 58, 50, 40, 60, 20, 12],\n        \"ramp_down\": [183, 198, 95.6, 101.7, 77.5, 60, 24, 45, 20, 12],\n        \"start_cost\": [5000, 4550, 1320, 1291, 1280, 1105, 560, 554, 300, 250],\n        \"fixed_cost\": [208.61, 117.37, 174.12, 172.75, 95.353, 144.52, 54.417, 54.551, 79.638, 16.259],\n        \"variable_cost\": [22.536, 31.985, 70.5, 69, 32.146, 54.84, 40.222, 40.522, 116.33, 76.642],\n        }\n\ndf_units = pd.DataFrame(ucp_raw_unit_data)\n\ndf_units[\"Unit\"] = all_units\n\ndf_units"
        },
        {
            "cell_type": "code",
            "execution_count": 19,
            "metadata": {},
            "outputs": [
                {
                    "data": {
                        "text/html": "<div>\n<style scoped>\n    .dataframe tbody tr th:only-of-type {\n        vertical-align: middle;\n    }\n\n    .dataframe tbody tr th {\n        vertical-align: top;\n    }\n\n    .dataframe thead th {\n        text-align: right;\n    }\n</style>\n<table border=\"1\" class=\"dataframe\">\n  <thead>\n    <tr style=\"text-align: right;\">\n      <th></th>\n      <th>energy</th>\n      <th>initial</th>\n      <th>min_gen</th>\n      <th>max_gen</th>\n      <th>operating_max_gen</th>\n      <th>min_uptime</th>\n      <th>min_downtime</th>\n      <th>ramp_up</th>\n      <th>ramp_down</th>\n      <th>start_cost</th>\n      <th>fixed_cost</th>\n      <th>variable_cost</th>\n      <th>Unit</th>\n      <th>co2_cost</th>\n    </tr>\n  </thead>\n  <tbody>\n    <tr>\n      <th>0</th>\n      <td>coal</td>\n      <td>400</td>\n      <td>100.00</td>\n      <td>425</td>\n      <td>400</td>\n      <td>15</td>\n      <td>9</td>\n      <td>212.0</td>\n      <td>183.0</td>\n      <td>5000</td>\n      <td>208.610</td>\n      <td>22.536</td>\n      <td>coal1</td>\n      <td>30</td>\n    </tr>\n    <tr>\n      <th>1</th>\n      <td>coal</td>\n      <td>350</td>\n      <td>140.00</td>\n      <td>365</td>\n      <td>350</td>\n      <td>15</td>\n      <td>8</td>\n      <td>150.0</td>\n      <td>198.0</td>\n      <td>4550</td>\n      <td>117.370</td>\n      <td>31.985</td>\n      <td>coal2</td>\n      <td>30</td>\n    </tr>\n    <tr>\n      <th>2</th>\n      <td>gas</td>\n      <td>205</td>\n      <td>78.00</td>\n      <td>220</td>\n      <td>205</td>\n      <td>6</td>\n      <td>7</td>\n      <td>101.2</td>\n      <td>95.6</td>\n      <td>1320</td>\n      <td>174.120</td>\n      <td>70.500</td>\n      <td>gas1</td>\n      <td>5</td>\n    </tr>\n    <tr>\n      <th>3</th>\n      <td>gas</td>\n      <td>52</td>\n      <td>52.00</td>\n      <td>210</td>\n      <td>197</td>\n      <td>5</td>\n      <td>4</td>\n      <td>94.8</td>\n      <td>101.7</td>\n      <td>1291</td>\n      <td>172.750</td>\n      <td>69.000</td>\n      <td>gas2</td>\n      <td>5</td>\n    </tr>\n    <tr>\n      <th>4</th>\n      <td>gas</td>\n      <td>155</td>\n      <td>54.25</td>\n      <td>165</td>\n      <td>155</td>\n      <td>5</td>\n      <td>3</td>\n      <td>58.0</td>\n      <td>77.5</td>\n      <td>1280</td>\n      <td>95.353</td>\n      <td>32.146</td>\n      <td>gas3</td>\n      <td>5</td>\n    </tr>\n    <tr>\n      <th>5</th>\n      <td>gas</td>\n      <td>150</td>\n      <td>39.00</td>\n      <td>158</td>\n      <td>150</td>\n      <td>4</td>\n      <td>2</td>\n      <td>50.0</td>\n      <td>60.0</td>\n      <td>1105</td>\n      <td>144.520</td>\n      <td>54.840</td>\n      <td>gas4</td>\n      <td>5</td>\n    </tr>\n    <tr>\n      <th>6</th>\n      <td>diesel</td>\n      <td>78</td>\n      <td>17.40</td>\n      <td>90</td>\n      <td>78</td>\n      <td>3</td>\n      <td>2</td>\n      <td>40.0</td>\n      <td>24.0</td>\n      <td>560</td>\n      <td>54.417</td>\n      <td>40.222</td>\n      <td>diesel1</td>\n      <td>15</td>\n    </tr>\n    <tr>\n      <th>7</th>\n      <td>diesel</td>\n      <td>76</td>\n      <td>15.20</td>\n      <td>87</td>\n      <td>76</td>\n      <td>3</td>\n      <td>2</td>\n      <td>60.0</td>\n      <td>45.0</td>\n      <td>554</td>\n      <td>54.551</td>\n      <td>40.522</td>\n      <td>diesel2</td>\n      <td>15</td>\n    </tr>\n    <tr>\n      <th>8</th>\n      <td>diesel</td>\n      <td>0</td>\n      <td>4.00</td>\n      <td>20</td>\n      <td>20</td>\n      <td>1</td>\n      <td>1</td>\n      <td>20.0</td>\n      <td>20.0</td>\n      <td>300</td>\n      <td>79.638</td>\n      <td>116.330</td>\n      <td>diesel3</td>\n      <td>15</td>\n    </tr>\n    <tr>\n      <th>9</th>\n      <td>diesel</td>\n      <td>0</td>\n      <td>2.40</td>\n      <td>12</td>\n      <td>12</td>\n      <td>1</td>\n      <td>1</td>\n      <td>12.0</td>\n      <td>12.0</td>\n      <td>250</td>\n      <td>16.259</td>\n      <td>76.642</td>\n      <td>diesel4</td>\n      <td>15</td>\n    </tr>\n  </tbody>\n</table>\n</div>",
                        "text/plain": "   energy  initial  min_gen  max_gen  operating_max_gen  min_uptime  \\\n0    coal      400   100.00      425                400          15   \n1    coal      350   140.00      365                350          15   \n2     gas      205    78.00      220                205           6   \n3     gas       52    52.00      210                197           5   \n4     gas      155    54.25      165                155           5   \n5     gas      150    39.00      158                150           4   \n6  diesel       78    17.40       90                 78           3   \n7  diesel       76    15.20       87                 76           3   \n8  diesel        0     4.00       20                 20           1   \n9  diesel        0     2.40       12                 12           1   \n\n   min_downtime  ramp_up  ramp_down  start_cost  fixed_cost  variable_cost  \\\n0             9    212.0      183.0        5000     208.610         22.536   \n1             8    150.0      198.0        4550     117.370         31.985   \n2             7    101.2       95.6        1320     174.120         70.500   \n3             4     94.8      101.7        1291     172.750         69.000   \n4             3     58.0       77.5        1280      95.353         32.146   \n5             2     50.0       60.0        1105     144.520         54.840   \n6             2     40.0       24.0         560      54.417         40.222   \n7             2     60.0       45.0         554      54.551         40.522   \n8             1     20.0       20.0         300      79.638        116.330   \n9             1     12.0       12.0         250      16.259         76.642   \n\n      Unit  co2_cost  \n0    coal1        30  \n1    coal2        30  \n2     gas1         5  \n3     gas2         5  \n4     gas3         5  \n5     gas4         5  \n6  diesel1        15  \n7  diesel2        15  \n8  diesel3        15  \n9  diesel4        15  "
                    },
                    "execution_count": 19,
                    "metadata": {},
                    "output_type": "execute_result"
                }
            ],
            "source": "Units = pd.merge( df_units, co2_cost, on = \"energy\" )\nUnits"
        },
        {
            "cell_type": "code",
            "execution_count": null,
            "metadata": {},
            "outputs": [],
            "source": ""
        },
        {
            "cell_type": "markdown",
            "metadata": {},
            "source": "# Demand"
        },
        {
            "cell_type": "code",
            "execution_count": 20,
            "metadata": {},
            "outputs": [],
            "source": "raw_demand = [1259.0, 1439.0, 1289.0, 1211.0, 1433.0, 1287.0, 1285.0, 1227.0, 1269.0, 1158.0, 1277.0, 1417.0, 1294.0, 1396.0, 1414.0, 1386.0,\n              1302.0, 1215.0, 1433.0, 1354.0, 1436.0, 1285.0, 1332.0, 1172.0, 1446.0, 1367.0, 1243.0, 1275.0, 1363.0, 1208.0, 1394.0, 1345.0, \n              1217.0, 1432.0, 1431.0, 1356.0, 1360.0, 1364.0, 1286.0, 1440.0, 1440.0, 1313.0, 1389.0, 1385.0, 1265.0, 1442.0, 1435.0, 1432.0, \n              1280.0, 1411.0, 1440.0, 1258.0, 1333.0, 1293.0, 1193.0, 1440.0, 1306.0, 1264.0, 1244.0, 1368.0, 1437.0, 1236.0, 1354.0, 1356.0, \n              1383.0, 1350.0, 1354.0, 1329.0, 1427.0, 1163.0, 1339.0, 1351.0, 1174.0, 1235.0, 1439.0, 1235.0, 1245.0, 1262.0, 1362.0, 1184.0, \n              1207.0, 1359.0, 1443.0, 1205.0, 1192.0, 1364.0, 1233.0, 1281.0, 1295.0, 1357.0, 1191.0, 1329.0, 1294.0, 1334.0, 1265.0, 1207.0, \n              1365.0, 1432.0, 1199.0, 1191.0, 1411.0, 1294.0, 1244.0, 1256.0, 1257.0, 1224.0, 1277.0, 1246.0, 1243.0, 1194.0, 1389.0, 1366.0, \n              1282.0, 1221.0, 1255.0, 1417.0, 1358.0, 1264.0, 1205.0, 1254.0, 1276.0, 1435.0, 1335.0, 1355.0, 1337.0, 1197.0, 1423.0, 1194.0, \n              1310.0, 1255.0, 1300.0, 1388.0, 1385.0, 1255.0, 1434.0, 1232.0, 1402.0, 1435.0, 1160.0, 1193.0, 1422.0, 1235.0, 1219.0, 1410.0, \n              1363.0, 1361.0, 1437.0, 1407.0, 1164.0, 1392.0, 1408.0, 1196.0, 1430.0, 1264.0, 1289.0, 1434.0, 1216.0, 1340.0, 1327.0, 1230.0, \n              1362.0, 1360.0, 1448.0, 1220.0, 1435.0, 1425.0, 1413.0, 1279.0, 1269.0, 1162.0, 1437.0, 1441.0, 1433.0, 1307.0, 1436.0, 1357.0, \n              1437.0, 1308.0, 1207.0, 1420.0, 1338.0, 1311.0, 1328.0, 1417.0, 1394.0, 1336.0, 1160.0, 1231.0, 1422.0, 1294.0, 1434.0, 1289.0]"
        },
        {
            "cell_type": "code",
            "execution_count": 21,
            "metadata": {},
            "outputs": [],
            "source": "Demand = pd.DataFrame(raw_demand, columns = [\"demand\"])"
        },
        {
            "cell_type": "code",
            "execution_count": 22,
            "metadata": {},
            "outputs": [],
            "source": "Demand[\"Date\"] = pd.date_range(datetime.today().date(), periods=len(raw_demand)).tolist()\nDemand[\"Date_Sequence\"] =[\"day\"+ str(i) for i in range(1, len(Demand)+1)]"
        },
        {
            "cell_type": "code",
            "execution_count": 23,
            "metadata": {},
            "outputs": [
                {
                    "data": {
                        "text/html": "<div>\n<style scoped>\n    .dataframe tbody tr th:only-of-type {\n        vertical-align: middle;\n    }\n\n    .dataframe tbody tr th {\n        vertical-align: top;\n    }\n\n    .dataframe thead th {\n        text-align: right;\n    }\n</style>\n<table border=\"1\" class=\"dataframe\">\n  <thead>\n    <tr style=\"text-align: right;\">\n      <th></th>\n      <th>demand</th>\n      <th>Date</th>\n      <th>Date_Sequence</th>\n    </tr>\n  </thead>\n  <tbody>\n    <tr>\n      <th>0</th>\n      <td>1259.0</td>\n      <td>2022-04-22</td>\n      <td>day1</td>\n    </tr>\n    <tr>\n      <th>1</th>\n      <td>1439.0</td>\n      <td>2022-04-23</td>\n      <td>day2</td>\n    </tr>\n    <tr>\n      <th>2</th>\n      <td>1289.0</td>\n      <td>2022-04-24</td>\n      <td>day3</td>\n    </tr>\n    <tr>\n      <th>3</th>\n      <td>1211.0</td>\n      <td>2022-04-25</td>\n      <td>day4</td>\n    </tr>\n    <tr>\n      <th>4</th>\n      <td>1433.0</td>\n      <td>2022-04-26</td>\n      <td>day5</td>\n    </tr>\n  </tbody>\n</table>\n</div>",
                        "text/plain": "   demand       Date Date_Sequence\n0  1259.0 2022-04-22          day1\n1  1439.0 2022-04-23          day2\n2  1289.0 2022-04-24          day3\n3  1211.0 2022-04-25          day4\n4  1433.0 2022-04-26          day5"
                    },
                    "execution_count": 23,
                    "metadata": {},
                    "output_type": "execute_result"
                }
            ],
            "source": "Demand.head()"
        },
        {
            "cell_type": "code",
            "execution_count": null,
            "metadata": {},
            "outputs": [],
            "source": ""
        },
        {
            "cell_type": "code",
            "execution_count": 24,
            "metadata": {},
            "outputs": [],
            "source": "from dse_do_utils import DataManager, OptimizationEngine,ScenarioManager"
        },
        {
            "cell_type": "code",
            "execution_count": 25,
            "metadata": {},
            "outputs": [],
            "source": "MODEL_NAME = 'Unit_Commitment'\nSCENARIO_NAME = 'Base_Scenario' \nsm = ScenarioManager(model_name=MODEL_NAME, scenario_name=SCENARIO_NAME, project = project)"
        },
        {
            "cell_type": "code",
            "execution_count": 26,
            "metadata": {},
            "outputs": [
                {
                    "data": {
                        "text/plain": "dict_keys([])"
                    },
                    "execution_count": 26,
                    "metadata": {},
                    "output_type": "execute_result"
                }
            ],
            "source": "InputTables, outputTables = sm.load_data_from_scenario()\nInputTables.keys()"
        },
        {
            "cell_type": "code",
            "execution_count": 27,
            "metadata": {},
            "outputs": [],
            "source": "InputTables['Units']=Units\nInputTables['Demand']=Demand"
        },
        {
            "cell_type": "code",
            "execution_count": 28,
            "metadata": {},
            "outputs": [],
            "source": "sm.write_data_into_scenario_s(model_name=MODEL_NAME, scenario_name=SCENARIO_NAME, inputs=InputTables)"
        },
        {
            "cell_type": "code",
            "execution_count": null,
            "metadata": {},
            "outputs": [],
            "source": ""
        }
    ],
    "metadata": {
        "kernelspec": {
            "display_name": "Python 3.9",
            "language": "python",
            "name": "python3"
        },
        "language_info": {
            "codemirror_mode": {
                "name": "ipython",
                "version": 3
            },
            "file_extension": ".py",
            "mimetype": "text/x-python",
            "name": "python",
            "nbconvert_exporter": "python",
            "pygments_lexer": "ipython3",
            "version": "3.9.7"
        }
    },
    "nbformat": 4,
    "nbformat_minor": 1
}